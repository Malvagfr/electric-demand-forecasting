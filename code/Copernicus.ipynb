{
 "cells": [
  {
   "cell_type": "markdown",
   "id": "b4509517",
   "metadata": {},
   "source": [
    "## API conection"
   ]
  },
  {
   "cell_type": "code",
   "execution_count": 54,
   "id": "e3b9e49f",
   "metadata": {},
   "outputs": [],
   "source": [
    "#import libraries\n",
    "import pandas as pd\n",
    "import numpy as np\n",
    "import cdsapi\n",
    "import netCDF4"
   ]
  },
  {
   "cell_type": "code",
   "execution_count": 55,
   "id": "49492de2",
   "metadata": {},
   "outputs": [
    {
     "name": "stderr",
     "output_type": "stream",
     "text": [
      "2022-04-27 20:45:56,012 INFO Welcome to the CDS\n",
      "2022-04-27 20:45:56,014 INFO Sending request to https://cds.climate.copernicus.eu/api/v2/resources/reanalysis-era5-land\n",
      "2022-04-27 20:45:56,185 INFO Request is completed\n",
      "2022-04-27 20:45:56,186 INFO Downloading https://download-0002-clone.copernicus-climate.eu/cache-compute-0002/cache/data9/adaptor.mars.internal-1651077964.730288-31584-1-424b10f9-3a25-4ba0-9711-051593416740.nc to download.nc (1.1K)\n",
      "2022-04-27 20:45:56,472 INFO Download rate 3.8K/s                               \n"
     ]
    },
    {
     "data": {
      "text/plain": [
       "Result(content_length=1104,content_type=application/x-netcdf,location=https://download-0002-clone.copernicus-climate.eu/cache-compute-0002/cache/data9/adaptor.mars.internal-1651077964.730288-31584-1-424b10f9-3a25-4ba0-9711-051593416740.nc)"
      ]
     },
     "execution_count": 55,
     "metadata": {},
     "output_type": "execute_result"
    }
   ],
   "source": [
    "c = cdsapi.Client()\n",
    "\n",
    "c.retrieve(\n",
    "    'reanalysis-era5-land',\n",
    "    {\n",
    "        'variable': '2m_dewpoint_temperature',\n",
    "        'year': '2022',\n",
    "        'month': '01',\n",
    "        'day': '02',\n",
    "        'time': \n",
    "            '00:00',\n",
    "        'area': [\n",
    "            43.4, -5.8, 43.3,\n",
    "            -5.7,\n",
    "        ],\n",
    "        'format': 'netcdf',\n",
    "    },\n",
    "    'download.nc')"
   ]
  },
  {
   "cell_type": "code",
   "execution_count": 56,
   "id": "114cc230",
   "metadata": {},
   "outputs": [
    {
     "data": {
      "text/plain": [
       "(-5.7,)"
      ]
     },
     "execution_count": 56,
     "metadata": {},
     "output_type": "execute_result"
    }
   ],
   "source": [
    "            43.4, -5.8, 43.3,\n",
    "            -5.7,"
   ]
  },
  {
   "cell_type": "code",
   "execution_count": 58,
   "id": "49e96efd",
   "metadata": {},
   "outputs": [
    {
     "ename": "PermissionError",
     "evalue": "[Errno 13] Permission denied: b'./download.nc'",
     "output_type": "error",
     "traceback": [
      "\u001b[0;31m---------------------------------------------------------------------------\u001b[0m",
      "\u001b[0;31mPermissionError\u001b[0m                           Traceback (most recent call last)",
      "\u001b[0;32m/var/folders/dk/5757d03j1t3d7vhy5byqrlgm0000gn/T/ipykernel_4903/1488405031.py\u001b[0m in \u001b[0;36m<module>\u001b[0;34m\u001b[0m\n\u001b[1;32m      1\u001b[0m \u001b[0;32mfrom\u001b[0m \u001b[0mnetCDF4\u001b[0m \u001b[0;32mimport\u001b[0m \u001b[0mDataset\u001b[0m\u001b[0;34m\u001b[0m\u001b[0;34m\u001b[0m\u001b[0m\n\u001b[0;32m----> 2\u001b[0;31m \u001b[0mrootgrp\u001b[0m \u001b[0;34m=\u001b[0m \u001b[0mDataset\u001b[0m\u001b[0;34m(\u001b[0m\u001b[0;34m\"./download.nc\"\u001b[0m\u001b[0;34m,\u001b[0m \u001b[0;34m\"w\"\u001b[0m\u001b[0;34m,\u001b[0m \u001b[0mformat\u001b[0m\u001b[0;34m=\u001b[0m\u001b[0;34m\"NETCDF4\"\u001b[0m\u001b[0;34m)\u001b[0m\u001b[0;34m\u001b[0m\u001b[0;34m\u001b[0m\u001b[0m\n\u001b[0m\u001b[1;32m      3\u001b[0m \u001b[0mprint\u001b[0m\u001b[0;34m(\u001b[0m\u001b[0mrootgrp\u001b[0m\u001b[0;34m.\u001b[0m\u001b[0mdata_model\u001b[0m\u001b[0;34m)\u001b[0m\u001b[0;34m\u001b[0m\u001b[0;34m\u001b[0m\u001b[0m\n\u001b[1;32m      4\u001b[0m \u001b[0mrootgrp\u001b[0m\u001b[0;34m.\u001b[0m\u001b[0mclose\u001b[0m\u001b[0;34m(\u001b[0m\u001b[0;34m)\u001b[0m\u001b[0;34m\u001b[0m\u001b[0;34m\u001b[0m\u001b[0m\n",
      "\u001b[0;32msrc/netCDF4/_netCDF4.pyx\u001b[0m in \u001b[0;36mnetCDF4._netCDF4.Dataset.__init__\u001b[0;34m()\u001b[0m\n",
      "\u001b[0;32msrc/netCDF4/_netCDF4.pyx\u001b[0m in \u001b[0;36mnetCDF4._netCDF4._ensure_nc_success\u001b[0;34m()\u001b[0m\n",
      "\u001b[0;31mPermissionError\u001b[0m: [Errno 13] Permission denied: b'./download.nc'"
     ]
    }
   ],
   "source": [
    "from netCDF4 import Dataset\n",
    "rootgrp = Dataset(\"./download.nc\", \"w\", format=\"NETCDF4\")\n",
    "print(rootgrp.data_model)\n",
    "rootgrp.close()"
   ]
  },
  {
   "cell_type": "code",
   "execution_count": 59,
   "id": "6c4b16db",
   "metadata": {},
   "outputs": [
    {
     "data": {
      "text/html": [
       "<div>\n",
       "<style scoped>\n",
       "    .dataframe tbody tr th:only-of-type {\n",
       "        vertical-align: middle;\n",
       "    }\n",
       "\n",
       "    .dataframe tbody tr th {\n",
       "        vertical-align: top;\n",
       "    }\n",
       "\n",
       "    .dataframe thead th {\n",
       "        text-align: right;\n",
       "    }\n",
       "</style>\n",
       "<table border=\"1\" class=\"dataframe\">\n",
       "  <thead>\n",
       "    <tr style=\"text-align: right;\">\n",
       "      <th></th>\n",
       "      <th>latitude</th>\n",
       "      <th>longitude</th>\n",
       "      <th>time</th>\n",
       "      <th>d2m</th>\n",
       "    </tr>\n",
       "  </thead>\n",
       "  <tbody>\n",
       "    <tr>\n",
       "      <th>0</th>\n",
       "      <td>40.000000</td>\n",
       "      <td>0.0</td>\n",
       "      <td>2022-01-01</td>\n",
       "      <td>279.80005</td>\n",
       "    </tr>\n",
       "    <tr>\n",
       "      <th>1</th>\n",
       "      <td>40.000000</td>\n",
       "      <td>0.1</td>\n",
       "      <td>2022-01-01</td>\n",
       "      <td>NaN</td>\n",
       "    </tr>\n",
       "    <tr>\n",
       "      <th>2</th>\n",
       "      <td>39.900002</td>\n",
       "      <td>0.0</td>\n",
       "      <td>2022-01-01</td>\n",
       "      <td>NaN</td>\n",
       "    </tr>\n",
       "    <tr>\n",
       "      <th>3</th>\n",
       "      <td>39.900002</td>\n",
       "      <td>0.1</td>\n",
       "      <td>2022-01-01</td>\n",
       "      <td>NaN</td>\n",
       "    </tr>\n",
       "  </tbody>\n",
       "</table>\n",
       "</div>"
      ],
      "text/plain": [
       "    latitude  longitude        time        d2m\n",
       "0  40.000000        0.0  2022-01-01  279.80005\n",
       "1  40.000000        0.1  2022-01-01        NaN\n",
       "2  39.900002        0.0  2022-01-01        NaN\n",
       "3  39.900002        0.1  2022-01-01        NaN"
      ]
     },
     "execution_count": 59,
     "metadata": {},
     "output_type": "execute_result"
    }
   ],
   "source": [
    "import xarray as xr\n",
    "ds = xr.open_dataset(\"./download.nc\")\n",
    "df = ds.to_dataframe()\n",
    "df.to_csv(\"./download.csv\")\n",
    "df = pd.read_csv('download.csv')\n",
    "df"
   ]
  },
  {
   "cell_type": "markdown",
   "id": "dc2d221f",
   "metadata": {},
   "source": [
    "## Format change"
   ]
  },
  {
   "cell_type": "code",
   "execution_count": 87,
   "id": "2c828408",
   "metadata": {},
   "outputs": [],
   "source": [
    "file_list=['Oviedo','Madrid','Barcelona','Valencia','Sevilla','Zaragoza','Malaga','Murcia','Bilbao','Vigo',\n",
    "          'Alicante','Cordoba','Valladolid']"
   ]
  },
  {
   "cell_type": "code",
   "execution_count": 88,
   "id": "aec754d1",
   "metadata": {},
   "outputs": [
    {
     "ename": "FileNotFoundError",
     "evalue": "[Errno 2] No such file or directory: b'./Oviedo'",
     "output_type": "error",
     "traceback": [
      "\u001b[0;31m---------------------------------------------------------------------------\u001b[0m",
      "\u001b[0;31mFileNotFoundError\u001b[0m                         Traceback (most recent call last)",
      "\u001b[0;32m/var/folders/dk/5757d03j1t3d7vhy5byqrlgm0000gn/T/ipykernel_4903/2289444236.py\u001b[0m in \u001b[0;36m<module>\u001b[0;34m\u001b[0m\n\u001b[1;32m      7\u001b[0m     \u001b[0mdf4\u001b[0m\u001b[0;34m=\u001b[0m\u001b[0mpd\u001b[0m\u001b[0;34m.\u001b[0m\u001b[0mDataFrame\u001b[0m\u001b[0;34m(\u001b[0m\u001b[0;34m)\u001b[0m\u001b[0;34m\u001b[0m\u001b[0;34m\u001b[0m\u001b[0m\n\u001b[1;32m      8\u001b[0m \u001b[0;34m\u001b[0m\u001b[0m\n\u001b[0;32m----> 9\u001b[0;31m     \u001b[0mnc\u001b[0m\u001b[0;34m=\u001b[0m\u001b[0mnetCDF4\u001b[0m\u001b[0;34m.\u001b[0m\u001b[0mDataset\u001b[0m\u001b[0;34m(\u001b[0m\u001b[0mpath\u001b[0m\u001b[0;34m,\u001b[0m\u001b[0;34m'r'\u001b[0m\u001b[0;34m)\u001b[0m\u001b[0;34m\u001b[0m\u001b[0;34m\u001b[0m\u001b[0m\n\u001b[0m\u001b[1;32m     10\u001b[0m \u001b[0;34m\u001b[0m\u001b[0m\n\u001b[1;32m     11\u001b[0m     \u001b[0mvariables\u001b[0m\u001b[0;34m=\u001b[0m\u001b[0mnc\u001b[0m\u001b[0;34m.\u001b[0m\u001b[0mvariables\u001b[0m\u001b[0;34m.\u001b[0m\u001b[0mkeys\u001b[0m\u001b[0;34m(\u001b[0m\u001b[0;34m)\u001b[0m\u001b[0;34m\u001b[0m\u001b[0;34m\u001b[0m\u001b[0m\n",
      "\u001b[0;32msrc/netCDF4/_netCDF4.pyx\u001b[0m in \u001b[0;36mnetCDF4._netCDF4.Dataset.__init__\u001b[0;34m()\u001b[0m\n",
      "\u001b[0;32msrc/netCDF4/_netCDF4.pyx\u001b[0m in \u001b[0;36mnetCDF4._netCDF4._ensure_nc_success\u001b[0;34m()\u001b[0m\n",
      "\u001b[0;31mFileNotFoundError\u001b[0m: [Errno 2] No such file or directory: b'./Oviedo'"
     ]
    }
   ],
   "source": [
    "for file in file_list:\n",
    "    path=\"./\"+file +\".nc\"\n",
    "    \n",
    "    df1=pd.DataFrame()\n",
    "    df2=pd.DataFrame()\n",
    "    df3=pd.DataFrame()\n",
    "    df4=pd.DataFrame()\n",
    "    \n",
    "    nc=netCDF4.Dataset(path,'r')\n",
    "    \n",
    "    variables=nc.variables.keys()\n",
    "    \n",
    "    dtime=netCDF4.num2date(time[:],time.units)\n",
    "    time=str(dtime[0])\n",
    "    \n",
    "    df1['time']=time\n",
    "    df2['time']=time\n",
    "    df3['time']=time\n",
    "    df4['time']=time\n",
    "    \n",
    "    temp_p1=np.array(nc.variables['d2m'][:,0,0],dtype=type(nc.variables['d2m'][:,0,0]))\n",
    "    temp_p2=np.array(nc.variables['d2m'][:,0,1],dtype=type(nc.variables['d2m'][:,0,1]))\n",
    "    temp_p3=np.array(nc.variables['d2m'][:,1,0],dtype=type(nc.variables['d2m'][:,1,0]))\n",
    "    temp_p4=np.array(nc.variables['d2m'][:,1,1],dtype=type(nc.variables['d2m'][:,1,1]))\n",
    "    \n",
    "    df1['temp']=temp_p1\n",
    "    df2['temp']=temp_p2\n",
    "    df3['temp']=temp_p3\n",
    "    df4['temp']=temp_p4\n",
    "    \n",
    "    df=pd.concat([df1,df2,df3,df4])\n",
    "    "
   ]
  },
  {
   "cell_type": "code",
   "execution_count": 99,
   "id": "1d1a6f79",
   "metadata": {},
   "outputs": [],
   "source": [
    "#Defining load\n",
    "path=\"./download.nc\""
   ]
  },
  {
   "cell_type": "code",
   "execution_count": 113,
   "id": "1b1401b4",
   "metadata": {},
   "outputs": [],
   "source": [
    "df1=pd.DataFrame()\n",
    "df2=pd.DataFrame()\n",
    "df3=pd.DataFrame()\n",
    "df4=pd.DataFrame()"
   ]
  },
  {
   "cell_type": "code",
   "execution_count": 114,
   "id": "5fd27d0c",
   "metadata": {},
   "outputs": [],
   "source": [
    "nc=netCDF4.Dataset(path,'r')"
   ]
  },
  {
   "cell_type": "code",
   "execution_count": 115,
   "id": "dd5edf69",
   "metadata": {},
   "outputs": [],
   "source": [
    "variables=nc.variables.keys()"
   ]
  },
  {
   "cell_type": "code",
   "execution_count": 116,
   "id": "00ce1684",
   "metadata": {},
   "outputs": [
    {
     "name": "stdout",
     "output_type": "stream",
     "text": [
      "dict_keys(['longitude', 'latitude', 'time', 'd2m'])\n"
     ]
    }
   ],
   "source": [
    "print(variables)"
   ]
  },
  {
   "cell_type": "code",
   "execution_count": 125,
   "id": "b42f32f5",
   "metadata": {},
   "outputs": [
    {
     "data": {
      "text/plain": [
       "'2022-01-02 00:00:00'"
      ]
     },
     "execution_count": 125,
     "metadata": {},
     "output_type": "execute_result"
    }
   ],
   "source": [
    "time=nc.variables['time']\n",
    "dtime=netCDF4.num2date(time[:],time.units)\n",
    "time=str(dtime[0])\n",
    "time"
   ]
  },
  {
   "cell_type": "code",
   "execution_count": 118,
   "id": "defaca55",
   "metadata": {},
   "outputs": [],
   "source": [
    "df1['time']=time\n",
    "df2['time']=time\n",
    "df3['time']=time\n",
    "df4['time']=time"
   ]
  },
  {
   "cell_type": "code",
   "execution_count": 119,
   "id": "28ef2a80",
   "metadata": {},
   "outputs": [],
   "source": [
    "temp_p1=np.array(nc.variables['d2m'][:,0,0],dtype=type(nc.variables['d2m'][:,0,0]))\n",
    "temp_p2=np.array(nc.variables['d2m'][:,0,1],dtype=type(nc.variables['d2m'][:,0,1]))\n",
    "temp_p3=np.array(nc.variables['d2m'][:,1,0],dtype=type(nc.variables['d2m'][:,1,0]))\n",
    "temp_p4=np.array(nc.variables['d2m'][:,1,1],dtype=type(nc.variables['d2m'][:,1,1]))"
   ]
  },
  {
   "cell_type": "code",
   "execution_count": 120,
   "id": "760d46e7",
   "metadata": {},
   "outputs": [],
   "source": [
    "df1['temp']=temp_p1\n",
    "df2['temp']=temp_p2\n",
    "df3['temp']=temp_p3\n",
    "df4['temp']=temp_p4"
   ]
  },
  {
   "cell_type": "code",
   "execution_count": 121,
   "id": "10eef642",
   "metadata": {},
   "outputs": [],
   "source": [
    "df1['city']=\"Oviedo\"\n",
    "df2['city']=\"Oviedo\"\n",
    "df3['city']=\"Oviedo\"\n",
    "df4['city']=\"Oviedo\""
   ]
  },
  {
   "cell_type": "code",
   "execution_count": 124,
   "id": "e5ae7dc0",
   "metadata": {},
   "outputs": [
    {
     "data": {
      "text/html": [
       "<div>\n",
       "<style scoped>\n",
       "    .dataframe tbody tr th:only-of-type {\n",
       "        vertical-align: middle;\n",
       "    }\n",
       "\n",
       "    .dataframe tbody tr th {\n",
       "        vertical-align: top;\n",
       "    }\n",
       "\n",
       "    .dataframe thead th {\n",
       "        text-align: right;\n",
       "    }\n",
       "</style>\n",
       "<table border=\"1\" class=\"dataframe\">\n",
       "  <thead>\n",
       "    <tr style=\"text-align: right;\">\n",
       "      <th></th>\n",
       "      <th>time</th>\n",
       "      <th>temp</th>\n",
       "      <th>city</th>\n",
       "    </tr>\n",
       "  </thead>\n",
       "  <tbody>\n",
       "    <tr>\n",
       "      <th>0</th>\n",
       "      <td>NaN</td>\n",
       "      <td>278.276428</td>\n",
       "      <td>Oviedo</td>\n",
       "    </tr>\n",
       "    <tr>\n",
       "      <th>0</th>\n",
       "      <td>NaN</td>\n",
       "      <td>278.297913</td>\n",
       "      <td>Oviedo</td>\n",
       "    </tr>\n",
       "    <tr>\n",
       "      <th>0</th>\n",
       "      <td>NaN</td>\n",
       "      <td>278.153382</td>\n",
       "      <td>Oviedo</td>\n",
       "    </tr>\n",
       "    <tr>\n",
       "      <th>0</th>\n",
       "      <td>NaN</td>\n",
       "      <td>278.131897</td>\n",
       "      <td>Oviedo</td>\n",
       "    </tr>\n",
       "  </tbody>\n",
       "</table>\n",
       "</div>"
      ],
      "text/plain": [
       "  time        temp    city\n",
       "0  NaN  278.276428  Oviedo\n",
       "0  NaN  278.297913  Oviedo\n",
       "0  NaN  278.153382  Oviedo\n",
       "0  NaN  278.131897  Oviedo"
      ]
     },
     "execution_count": 124,
     "metadata": {},
     "output_type": "execute_result"
    }
   ],
   "source": [
    "pd.concat([df1,df2,df3,df4])"
   ]
  },
  {
   "cell_type": "code",
   "execution_count": 48,
   "id": "a8669ed6",
   "metadata": {},
   "outputs": [],
   "source": [
    "# Asturias - Oviedo: North 43.4°, West -5.8°, South 43.3°, East -5.7°\n",
    "# Madrid - Madrid: North 40.4°, West -3.7°, South 40.3°, East -3.6°\n",
    "# Cataluña - Barcelona: North 41.4°, West 2.1°, South 41.3°, East 2.2°\n",
    "# Comunidad Valenciana - Valencia: North 39.5°, West -0.37°, South 39.4°, East -0.38°\n",
    "# Andalucia - Sevilla: North 37.4°, West -6.0°, South 37.3°, East -5.9°\n",
    "# Aragón - Zaragoza: North 41.7°, West -0.8°, South 41.6°, East -0.9°\n",
    "# Murcia - Murcia: North 38.0°, West -1.1°, South 37.9°, East -1.2°\n",
    "# País Vasco - Bilbao: North 43.3°, West -2.8°, South 43.2°, East -2.9° \n",
    "# Galicia - Vigo: North 42.2°, West -8.6°, South 42.1°, East -8.7°\n",
    "# Castilla y León - Valladolid: North 41.7°, West -4.6°, South 41.6°, East -4.7°\n",
    "# Cantabria - Santander: North 43.5°, West -3.7°, South 43.4°, East -3.8°\n",
    "# La Rioja - Logroño: North 42.5°, West -2.4°, South 42.4°, East -2.5°\n",
    "# Navarra - Pamplona: North 42.9°, West -1.6°, South 42.8°, East -1.7°\n",
    "# Castilla la mancha - Albacete: North 39.0°, West -1.8°, South 38.9°, East -1.9°\n",
    "# Extremadura - Badajoz: North 38.9°, West -6.9°, South 38.8°, East -7.0°"
   ]
  },
  {
   "cell_type": "code",
   "execution_count": null,
   "id": "88e0380d",
   "metadata": {},
   "outputs": [],
   "source": [
    "#calcularlo todo a nivel españa\n",
    "#ponderar las temperaturas con la población de cada comunidad\n",
    "#marcar los días como festivos y ponderar los parciales con la población"
   ]
  }
 ],
 "metadata": {
  "kernelspec": {
   "display_name": "Python [conda env:final-project]",
   "language": "python",
   "name": "conda-env-final-project-py"
  },
  "language_info": {
   "codemirror_mode": {
    "name": "ipython",
    "version": 3
   },
   "file_extension": ".py",
   "mimetype": "text/x-python",
   "name": "python",
   "nbconvert_exporter": "python",
   "pygments_lexer": "ipython3",
   "version": "3.7.11"
  }
 },
 "nbformat": 4,
 "nbformat_minor": 5
}
