{
 "cells": [
  {
   "cell_type": "markdown",
   "id": "b4509517",
   "metadata": {},
   "source": [
    "## API conection"
   ]
  },
  {
   "cell_type": "code",
   "execution_count": 116,
   "id": "e3b9e49f",
   "metadata": {},
   "outputs": [],
   "source": [
    "#import libraries\n",
    "import pandas as pd\n",
    "import numpy as np\n",
    "import cdsapi\n",
    "import netCDF4"
   ]
  },
  {
   "cell_type": "code",
   "execution_count": 117,
   "id": "49492de2",
   "metadata": {},
   "outputs": [
    {
     "name": "stderr",
     "output_type": "stream",
     "text": [
      "2022-04-26 21:01:31,735 INFO Welcome to the CDS\n",
      "2022-04-26 21:01:31,737 INFO Sending request to https://cds.climate.copernicus.eu/api/v2/resources/reanalysis-era5-land\n",
      "2022-04-26 21:01:31,864 INFO Request is completed\n",
      "2022-04-26 21:01:31,865 INFO Downloading https://download-0007-clone.copernicus-climate.eu/cache-compute-0007/cache/data6/adaptor.mars.internal-1650997954.6944802-10028-17-fc2e15a7-7749-46ff-ab8b-d7f03174663e.nc to download.nc (1.1K)\n",
      "2022-04-26 21:01:32,150 INFO Download rate 3.8K/s                               \n"
     ]
    },
    {
     "data": {
      "text/plain": [
       "Result(content_length=1104,content_type=application/x-netcdf,location=https://download-0007-clone.copernicus-climate.eu/cache-compute-0007/cache/data6/adaptor.mars.internal-1650997954.6944802-10028-17-fc2e15a7-7749-46ff-ab8b-d7f03174663e.nc)"
      ]
     },
     "execution_count": 117,
     "metadata": {},
     "output_type": "execute_result"
    }
   ],
   "source": [
    "c = cdsapi.Client()\n",
    "\n",
    "c.retrieve(\n",
    "    'reanalysis-era5-land',\n",
    "    {\n",
    "        'variable': '2m_dewpoint_temperature',\n",
    "        'year': '2022',\n",
    "        'month': '01',\n",
    "        'day': '01',\n",
    "        'time': \n",
    "            '00:00',\n",
    "        'area': [\n",
    "            40, 0, 39.9,\n",
    "            0.1,\n",
    "        ],\n",
    "        'format': 'netcdf',\n",
    "    },\n",
    "    'download.nc')"
   ]
  },
  {
   "cell_type": "code",
   "execution_count": 118,
   "id": "49e96efd",
   "metadata": {},
   "outputs": [
    {
     "name": "stdout",
     "output_type": "stream",
     "text": [
      "NETCDF4\n"
     ]
    }
   ],
   "source": [
    "from netCDF4 import Dataset\n",
    "rootgrp = Dataset(\"../data/download.nc\", \"w\", format=\"NETCDF4\")\n",
    "print(rootgrp.data_model)\n",
    "rootgrp.close()"
   ]
  },
  {
   "cell_type": "code",
   "execution_count": 119,
   "id": "6c4b16db",
   "metadata": {},
   "outputs": [
    {
     "data": {
      "text/html": [
       "<div>\n",
       "<style scoped>\n",
       "    .dataframe tbody tr th:only-of-type {\n",
       "        vertical-align: middle;\n",
       "    }\n",
       "\n",
       "    .dataframe tbody tr th {\n",
       "        vertical-align: top;\n",
       "    }\n",
       "\n",
       "    .dataframe thead th {\n",
       "        text-align: right;\n",
       "    }\n",
       "</style>\n",
       "<table border=\"1\" class=\"dataframe\">\n",
       "  <thead>\n",
       "    <tr style=\"text-align: right;\">\n",
       "      <th></th>\n",
       "      <th>latitude</th>\n",
       "      <th>longitude</th>\n",
       "      <th>time</th>\n",
       "      <th>d2m</th>\n",
       "    </tr>\n",
       "  </thead>\n",
       "  <tbody>\n",
       "    <tr>\n",
       "      <th>0</th>\n",
       "      <td>40.000000</td>\n",
       "      <td>0.0</td>\n",
       "      <td>2022-01-01</td>\n",
       "      <td>279.80005</td>\n",
       "    </tr>\n",
       "    <tr>\n",
       "      <th>1</th>\n",
       "      <td>40.000000</td>\n",
       "      <td>0.1</td>\n",
       "      <td>2022-01-01</td>\n",
       "      <td>NaN</td>\n",
       "    </tr>\n",
       "    <tr>\n",
       "      <th>2</th>\n",
       "      <td>39.900002</td>\n",
       "      <td>0.0</td>\n",
       "      <td>2022-01-01</td>\n",
       "      <td>NaN</td>\n",
       "    </tr>\n",
       "    <tr>\n",
       "      <th>3</th>\n",
       "      <td>39.900002</td>\n",
       "      <td>0.1</td>\n",
       "      <td>2022-01-01</td>\n",
       "      <td>NaN</td>\n",
       "    </tr>\n",
       "  </tbody>\n",
       "</table>\n",
       "</div>"
      ],
      "text/plain": [
       "    latitude  longitude        time        d2m\n",
       "0  40.000000        0.0  2022-01-01  279.80005\n",
       "1  40.000000        0.1  2022-01-01        NaN\n",
       "2  39.900002        0.0  2022-01-01        NaN\n",
       "3  39.900002        0.1  2022-01-01        NaN"
      ]
     },
     "execution_count": 119,
     "metadata": {},
     "output_type": "execute_result"
    }
   ],
   "source": [
    "import xarray as xr\n",
    "ds = xr.open_dataset(\"./download.nc\")\n",
    "df = ds.to_dataframe()\n",
    "df.to_csv(\"./download.csv\")\n",
    "df = pd.read_csv('download.csv')\n",
    "df"
   ]
  },
  {
   "cell_type": "markdown",
   "id": "dc2d221f",
   "metadata": {},
   "source": [
    "## Format change"
   ]
  },
  {
   "cell_type": "code",
   "execution_count": 174,
   "id": "1d1a6f79",
   "metadata": {},
   "outputs": [],
   "source": [
    "path=\"./download.nc\""
   ]
  },
  {
   "cell_type": "code",
   "execution_count": 175,
   "id": "1b1401b4",
   "metadata": {},
   "outputs": [],
   "source": [
    "df1=pd.DataFrame()\n",
    "df2=pd.DataFrame()\n",
    "df3=pd.DataFrame()\n",
    "df4=pd.DataFrame()"
   ]
  },
  {
   "cell_type": "code",
   "execution_count": 176,
   "id": "5fd27d0c",
   "metadata": {},
   "outputs": [],
   "source": [
    "nc=netCDF4.Dataset(path,'r')"
   ]
  },
  {
   "cell_type": "code",
   "execution_count": 177,
   "id": "dd5edf69",
   "metadata": {},
   "outputs": [],
   "source": [
    "variables=nc.variables.keys()"
   ]
  },
  {
   "cell_type": "code",
   "execution_count": 178,
   "id": "00ce1684",
   "metadata": {},
   "outputs": [
    {
     "name": "stdout",
     "output_type": "stream",
     "text": [
      "dict_keys(['longitude', 'latitude', 'time', 'd2m'])\n"
     ]
    }
   ],
   "source": [
    "print(variables)"
   ]
  },
  {
   "cell_type": "code",
   "execution_count": 196,
   "id": "b42f32f5",
   "metadata": {},
   "outputs": [],
   "source": [
    "time=nc.variables['time']"
   ]
  },
  {
   "cell_type": "code",
   "execution_count": 221,
   "id": "defaca55",
   "metadata": {},
   "outputs": [
    {
     "data": {
      "text/plain": [
       "'2022-01-01 00:00:00'"
      ]
     },
     "execution_count": 221,
     "metadata": {},
     "output_type": "execute_result"
    }
   ],
   "source": [
    "dtime=netCDF4.num2date(time[:],time.units)\n",
    "str(dtime[0])"
   ]
  },
  {
   "cell_type": "code",
   "execution_count": 193,
   "id": "70b3d379",
   "metadata": {},
   "outputs": [],
   "source": [
    "lat_p1 = nc.variables['latitude'][0]\n",
    "#lat_p1=np.array(nc.variables['latitude'][:,0,0],dtype=type(nc.variables['latitude'][:0,0]))"
   ]
  },
  {
   "cell_type": "code",
   "execution_count": 181,
   "id": "de76585f",
   "metadata": {},
   "outputs": [],
   "source": [
    "lat_p2 = nc.variables['latitude'][0]"
   ]
  },
  {
   "cell_type": "code",
   "execution_count": 182,
   "id": "656d26fa",
   "metadata": {},
   "outputs": [],
   "source": [
    "lat_p3 = nc.variables['latitude'][1]"
   ]
  },
  {
   "cell_type": "code",
   "execution_count": 183,
   "id": "f3637784",
   "metadata": {},
   "outputs": [],
   "source": [
    "lat_p4 = nc.variables['latitude'][1]"
   ]
  },
  {
   "cell_type": "code",
   "execution_count": 184,
   "id": "9b0be5f8",
   "metadata": {},
   "outputs": [],
   "source": [
    "long_p1 = nc.variables['longitude'][0]"
   ]
  },
  {
   "cell_type": "code",
   "execution_count": 190,
   "id": "28ef2a80",
   "metadata": {},
   "outputs": [],
   "source": [
    "temp_p1=np.array(nc.variables['d2m'][:,0,0],dtype=type(nc.variables['d2m'][:,0,0]))\n",
    "temp_p2=np.array(nc.variables['d2m'][:,0,1],dtype=type(nc.variables['d2m'][:,0,1]))\n",
    "temp_p3=np.array(nc.variables['d2m'][:,1,0],dtype=type(nc.variables['d2m'][:,1,0]))\n",
    "temp_p4=np.array(nc.variables['d2m'][:,1,1],dtype=type(nc.variables['d2m'][:,1,1]))"
   ]
  },
  {
   "cell_type": "code",
   "execution_count": 191,
   "id": "760d46e7",
   "metadata": {},
   "outputs": [],
   "source": [
    "#df1['lat_p1']=lat_p1\n",
    "#df1['long_p1']=long_p1\n",
    "df1['temp']=temp_p1\n",
    "df2['temp']=temp_p2\n",
    "df3['temp']=temp_p3\n",
    "df4['temp']=temp_p4"
   ]
  },
  {
   "cell_type": "code",
   "execution_count": 192,
   "id": "e5ae7dc0",
   "metadata": {},
   "outputs": [
    {
     "data": {
      "text/html": [
       "<div>\n",
       "<style scoped>\n",
       "    .dataframe tbody tr th:only-of-type {\n",
       "        vertical-align: middle;\n",
       "    }\n",
       "\n",
       "    .dataframe tbody tr th {\n",
       "        vertical-align: top;\n",
       "    }\n",
       "\n",
       "    .dataframe thead th {\n",
       "        text-align: right;\n",
       "    }\n",
       "</style>\n",
       "<table border=\"1\" class=\"dataframe\">\n",
       "  <thead>\n",
       "    <tr style=\"text-align: right;\">\n",
       "      <th></th>\n",
       "      <th>temp</th>\n",
       "    </tr>\n",
       "  </thead>\n",
       "  <tbody>\n",
       "    <tr>\n",
       "      <th>0</th>\n",
       "      <td>279.800049</td>\n",
       "    </tr>\n",
       "    <tr>\n",
       "      <th>0</th>\n",
       "      <td>-32767.0</td>\n",
       "    </tr>\n",
       "    <tr>\n",
       "      <th>0</th>\n",
       "      <td>-32767.0</td>\n",
       "    </tr>\n",
       "    <tr>\n",
       "      <th>0</th>\n",
       "      <td>-32767.0</td>\n",
       "    </tr>\n",
       "  </tbody>\n",
       "</table>\n",
       "</div>"
      ],
      "text/plain": [
       "         temp\n",
       "0  279.800049\n",
       "0    -32767.0\n",
       "0    -32767.0\n",
       "0    -32767.0"
      ]
     },
     "execution_count": 192,
     "metadata": {},
     "output_type": "execute_result"
    }
   ],
   "source": [
    "pd.concat([df1,df2,df3,df4])"
   ]
  }
 ],
 "metadata": {
  "kernelspec": {
   "display_name": "Python [conda env:final-project]",
   "language": "python",
   "name": "conda-env-final-project-py"
  },
  "language_info": {
   "codemirror_mode": {
    "name": "ipython",
    "version": 3
   },
   "file_extension": ".py",
   "mimetype": "text/x-python",
   "name": "python",
   "nbconvert_exporter": "python",
   "pygments_lexer": "ipython3",
   "version": "3.7.11"
  }
 },
 "nbformat": 4,
 "nbformat_minor": 5
}
