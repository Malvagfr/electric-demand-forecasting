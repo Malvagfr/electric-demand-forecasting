{
 "cells": [
  {
   "cell_type": "markdown",
   "id": "1a42544b",
   "metadata": {},
   "source": [
    "## Bank holidays by region and year"
   ]
  },
  {
   "cell_type": "markdown",
   "id": "8939e501",
   "metadata": {},
   "source": [
    "Information coming from public source: \n",
    "\n",
    "https://administracion.gob.es/pag_Home/atencionCiudadana/calendarios/diasInhabiles.html#-b95725c1af8d"
   ]
  },
  {
   "cell_type": "code",
   "execution_count": 15,
   "id": "0b7e8b34",
   "metadata": {},
   "outputs": [],
   "source": [
    "#Imports\n",
    "import pandas as pd\n",
    "import requests \n",
    "import re"
   ]
  },
  {
   "cell_type": "code",
   "execution_count": 16,
   "id": "cb88a6ed",
   "metadata": {},
   "outputs": [
    {
     "data": {
      "text/html": [
       "<div>\n",
       "<style scoped>\n",
       "    .dataframe tbody tr th:only-of-type {\n",
       "        vertical-align: middle;\n",
       "    }\n",
       "\n",
       "    .dataframe tbody tr th {\n",
       "        vertical-align: top;\n",
       "    }\n",
       "\n",
       "    .dataframe thead th {\n",
       "        text-align: right;\n",
       "    }\n",
       "</style>\n",
       "<table border=\"1\" class=\"dataframe\">\n",
       "  <thead>\n",
       "    <tr style=\"text-align: right;\">\n",
       "      <th></th>\n",
       "      <th>Year</th>\n",
       "      <th>Day</th>\n",
       "      <th>Region</th>\n",
       "    </tr>\n",
       "  </thead>\n",
       "  <tbody>\n",
       "    <tr>\n",
       "      <th>0</th>\n",
       "      <td>2015</td>\n",
       "      <td>1/01/2015</td>\n",
       "      <td>Nacional</td>\n",
       "    </tr>\n",
       "    <tr>\n",
       "      <th>1</th>\n",
       "      <td>2015</td>\n",
       "      <td>6/01/2015</td>\n",
       "      <td>Nacional</td>\n",
       "    </tr>\n",
       "    <tr>\n",
       "      <th>2</th>\n",
       "      <td>2015</td>\n",
       "      <td>28/02/2015</td>\n",
       "      <td>Andalucía</td>\n",
       "    </tr>\n",
       "    <tr>\n",
       "      <th>3</th>\n",
       "      <td>2015</td>\n",
       "      <td>19/03/2015</td>\n",
       "      <td>Comunidad Valenciana</td>\n",
       "    </tr>\n",
       "    <tr>\n",
       "      <th>4</th>\n",
       "      <td>2015</td>\n",
       "      <td>19/03/2015</td>\n",
       "      <td>Madrid</td>\n",
       "    </tr>\n",
       "    <tr>\n",
       "      <th>...</th>\n",
       "      <td>...</td>\n",
       "      <td>...</td>\n",
       "      <td>...</td>\n",
       "    </tr>\n",
       "    <tr>\n",
       "      <th>463</th>\n",
       "      <td>2022</td>\n",
       "      <td>26/12/2022</td>\n",
       "      <td>La Rioja</td>\n",
       "    </tr>\n",
       "    <tr>\n",
       "      <th>464</th>\n",
       "      <td>2022</td>\n",
       "      <td>26/12/2022</td>\n",
       "      <td>Cataluña</td>\n",
       "    </tr>\n",
       "    <tr>\n",
       "      <th>465</th>\n",
       "      <td>2022</td>\n",
       "      <td>26/12/2022</td>\n",
       "      <td>Castilla y León</td>\n",
       "    </tr>\n",
       "    <tr>\n",
       "      <th>466</th>\n",
       "      <td>2022</td>\n",
       "      <td>26/12/2022</td>\n",
       "      <td>Madrid</td>\n",
       "    </tr>\n",
       "    <tr>\n",
       "      <th>467</th>\n",
       "      <td>2022</td>\n",
       "      <td>26/12/2022</td>\n",
       "      <td>Navarra</td>\n",
       "    </tr>\n",
       "  </tbody>\n",
       "</table>\n",
       "<p>468 rows × 3 columns</p>\n",
       "</div>"
      ],
      "text/plain": [
       "     Year         Day                Region\n",
       "0    2015   1/01/2015              Nacional\n",
       "1    2015   6/01/2015              Nacional\n",
       "2    2015  28/02/2015             Andalucía\n",
       "3    2015  19/03/2015  Comunidad Valenciana\n",
       "4    2015  19/03/2015                Madrid\n",
       "..    ...         ...                   ...\n",
       "463  2022  26/12/2022              La Rioja\n",
       "464  2022  26/12/2022              Cataluña\n",
       "465  2022  26/12/2022       Castilla y León\n",
       "466  2022  26/12/2022                Madrid\n",
       "467  2022  26/12/2022               Navarra\n",
       "\n",
       "[468 rows x 3 columns]"
      ]
     },
     "execution_count": 16,
     "metadata": {},
     "output_type": "execute_result"
    }
   ],
   "source": [
    "df_bank_holidays=pd.read_csv('../data/Bank_Holidays/Bank_holidays.csv', sep=',' , encoding='utf-8')\n",
    "df_bank_holidays"
   ]
  },
  {
   "cell_type": "code",
   "execution_count": 17,
   "id": "c3f176ee",
   "metadata": {},
   "outputs": [],
   "source": [
    "#sending data to csv\n",
    "df_bank_holidays.to_csv(\"../Data/Raw_Data/df_bank_holidays.csv\")"
   ]
  }
 ],
 "metadata": {
  "kernelspec": {
   "display_name": "Python [conda env:final-project]",
   "language": "python",
   "name": "conda-env-final-project-py"
  },
  "language_info": {
   "codemirror_mode": {
    "name": "ipython",
    "version": 3
   },
   "file_extension": ".py",
   "mimetype": "text/x-python",
   "name": "python",
   "nbconvert_exporter": "python",
   "pygments_lexer": "ipython3",
   "version": "3.7.11"
  }
 },
 "nbformat": 4,
 "nbformat_minor": 5
}
