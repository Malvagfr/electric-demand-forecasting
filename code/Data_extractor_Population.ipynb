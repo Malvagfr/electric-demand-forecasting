{
 "cells": [
  {
   "cell_type": "markdown",
   "id": "e68cf2d9",
   "metadata": {},
   "source": [
    "## Spain Population by region and year"
   ]
  },
  {
   "cell_type": "markdown",
   "id": "eca4d82d",
   "metadata": {},
   "source": [
    "Information coming from INE (https://www.ine.es/jaxiT3/Datos.htm?t=2915)"
   ]
  },
  {
   "cell_type": "code",
   "execution_count": 29,
   "id": "9a2f2725",
   "metadata": {},
   "outputs": [],
   "source": [
    "#Imports\n",
    "import pandas as pd\n",
    "import requests \n",
    "import bs4   # !pip install beautifulsoup4\n",
    "import re"
   ]
  },
  {
   "cell_type": "code",
   "execution_count": 30,
   "id": "81a7a3f3",
   "metadata": {},
   "outputs": [
    {
     "data": {
      "text/html": [
       "<div>\n",
       "<style scoped>\n",
       "    .dataframe tbody tr th:only-of-type {\n",
       "        vertical-align: middle;\n",
       "    }\n",
       "\n",
       "    .dataframe tbody tr th {\n",
       "        vertical-align: top;\n",
       "    }\n",
       "\n",
       "    .dataframe thead th {\n",
       "        text-align: right;\n",
       "    }\n",
       "</style>\n",
       "<table border=\"1\" class=\"dataframe\">\n",
       "  <thead>\n",
       "    <tr style=\"text-align: right;\">\n",
       "      <th></th>\n",
       "      <th>Comunidades y Ciudades Autónomas</th>\n",
       "      <th>Tamaño de los municipios</th>\n",
       "      <th>Periodo</th>\n",
       "      <th>Total</th>\n",
       "    </tr>\n",
       "  </thead>\n",
       "  <tbody>\n",
       "    <tr>\n",
       "      <th>0</th>\n",
       "      <td>Total</td>\n",
       "      <td>Total</td>\n",
       "      <td>2021</td>\n",
       "      <td>47.385.107</td>\n",
       "    </tr>\n",
       "    <tr>\n",
       "      <th>1</th>\n",
       "      <td>Total</td>\n",
       "      <td>Total</td>\n",
       "      <td>2020</td>\n",
       "      <td>47.450.795</td>\n",
       "    </tr>\n",
       "    <tr>\n",
       "      <th>2</th>\n",
       "      <td>Total</td>\n",
       "      <td>Total</td>\n",
       "      <td>2019</td>\n",
       "      <td>47.026.208</td>\n",
       "    </tr>\n",
       "    <tr>\n",
       "      <th>3</th>\n",
       "      <td>Total</td>\n",
       "      <td>Total</td>\n",
       "      <td>2018</td>\n",
       "      <td>46.722.980</td>\n",
       "    </tr>\n",
       "    <tr>\n",
       "      <th>4</th>\n",
       "      <td>Total</td>\n",
       "      <td>Total</td>\n",
       "      <td>2017</td>\n",
       "      <td>46.572.132</td>\n",
       "    </tr>\n",
       "  </tbody>\n",
       "</table>\n",
       "</div>"
      ],
      "text/plain": [
       "  Comunidades y Ciudades Autónomas Tamaño de los municipios  Periodo  \\\n",
       "0                            Total                    Total     2021   \n",
       "1                            Total                    Total     2020   \n",
       "2                            Total                    Total     2019   \n",
       "3                            Total                    Total     2018   \n",
       "4                            Total                    Total     2017   \n",
       "\n",
       "        Total  \n",
       "0  47.385.107  \n",
       "1  47.450.795  \n",
       "2  47.026.208  \n",
       "3  46.722.980  \n",
       "4  46.572.132  "
      ]
     },
     "execution_count": 30,
     "metadata": {},
     "output_type": "execute_result"
    }
   ],
   "source": [
    "df_population=pd.read_csv('../data/Population/Population.csv',sep=';' , encoding='latin-1')\n",
    "df_population.head()"
   ]
  },
  {
   "cell_type": "code",
   "execution_count": 31,
   "id": "c1a1a805",
   "metadata": {},
   "outputs": [],
   "source": [
    "#Filtering data from 2015\n",
    "df_population=df_population[df_population['Periodo']>=2015]         "
   ]
  },
  {
   "cell_type": "code",
   "execution_count": 32,
   "id": "bbc3aaa7",
   "metadata": {},
   "outputs": [],
   "source": [
    "df_population['Comunidades y Ciudades Autónomas']=df_population['Comunidades y Ciudades Autónomas'].str[3:]"
   ]
  },
  {
   "cell_type": "code",
   "execution_count": 33,
   "id": "88638b2c",
   "metadata": {},
   "outputs": [],
   "source": [
    "df_population['Comunidades y Ciudades Autónomas'] = \\\n",
    "df_population['Comunidades y Ciudades Autónomas'].replace(['al'],'Total')\n",
    "df_population['Comunidades y Ciudades Autónomas'] = \\\n",
    "df_population['Comunidades y Ciudades Autónomas'].replace(['Asturias, Principado de'],'Asturias')\n",
    "df_population['Comunidades y Ciudades Autónomas'] = \\\n",
    "df_population['Comunidades y Ciudades Autónomas'].replace(['Castilla - La Mancha'],'Castilla-La Mancha')\n",
    "df_population['Comunidades y Ciudades Autónomas'] = \\\n",
    "df_population['Comunidades y Ciudades Autónomas'].replace(['Comunitat Valenciana'],'Comunidad Valenciana')\n",
    "df_population['Comunidades y Ciudades Autónomas'] = \\\n",
    "df_population['Comunidades y Ciudades Autónomas'].replace(['Comunitat Valenciana'],'Comunidad Valenciana')\n",
    "df_population['Comunidades y Ciudades Autónomas'] = \\\n",
    "df_population['Comunidades y Ciudades Autónomas'].replace(['Madrid, Comunidad de'],'Madrid')\n",
    "df_population['Comunidades y Ciudades Autónomas'] = \\\n",
    "df_population['Comunidades y Ciudades Autónomas'].replace(['Murcia, Región de'],'Murcia')\n",
    "df_population['Comunidades y Ciudades Autónomas'] = \\\n",
    "df_population['Comunidades y Ciudades Autónomas'].replace(['Navarra, Comunidad Foral de'],'Navarra')\n",
    "df_population['Comunidades y Ciudades Autónomas'] = \\\n",
    "df_population['Comunidades y Ciudades Autónomas'].replace(['Rioja, La'],'La Rioja')"
   ]
  },
  {
   "cell_type": "code",
   "execution_count": 34,
   "id": "5d39d331",
   "metadata": {},
   "outputs": [
    {
     "data": {
      "text/plain": [
       "array(['Total', 'Andalucía', 'Aragón', 'Asturias', 'Balears, Illes',\n",
       "       'Canarias', 'Cantabria', 'Castilla y León', 'Castilla-La Mancha',\n",
       "       'Cataluña', 'Comunidad Valenciana', 'Extremadura', 'Galicia',\n",
       "       'Madrid', 'Murcia', 'Navarra', 'País Vasco', 'La Rioja', 'Ceuta',\n",
       "       'Melilla'], dtype=object)"
      ]
     },
     "execution_count": 34,
     "metadata": {},
     "output_type": "execute_result"
    }
   ],
   "source": [
    "df_population['Comunidades y Ciudades Autónomas'].unique()"
   ]
  },
  {
   "cell_type": "code",
   "execution_count": 35,
   "id": "a4a7d87b",
   "metadata": {},
   "outputs": [],
   "source": [
    "to_exclude = ['Total','Balears, Illes','Canarias','Ceuta','Melilla']"
   ]
  },
  {
   "cell_type": "code",
   "execution_count": 36,
   "id": "29040d87",
   "metadata": {},
   "outputs": [],
   "source": [
    "df_population=df_population[~df_population['Comunidades y Ciudades Autónomas'].isin(to_exclude)]"
   ]
  },
  {
   "cell_type": "code",
   "execution_count": 37,
   "id": "beb0a7de",
   "metadata": {},
   "outputs": [],
   "source": [
    "df_population.rename(columns={'Comunidades y Ciudades Autónomas': 'Region', \n",
    "                               'Periodo': 'Year', 'Total': 'Population'}, inplace=True)"
   ]
  },
  {
   "cell_type": "code",
   "execution_count": 38,
   "id": "9ea3b708",
   "metadata": {},
   "outputs": [
    {
     "name": "stderr",
     "output_type": "stream",
     "text": [
      "/Users/malva/miniconda3/envs/final_project/lib/python3.7/site-packages/ipykernel_launcher.py:1: FutureWarning: In a future version of pandas all arguments of DataFrame.drop except for the argument 'labels' will be keyword-only\n",
      "  \"\"\"Entry point for launching an IPython kernel.\n"
     ]
    }
   ],
   "source": [
    "df_population = df_population.drop('Tamaño de los municipios', 1)"
   ]
  },
  {
   "cell_type": "code",
   "execution_count": 39,
   "id": "e660d9a1",
   "metadata": {},
   "outputs": [
    {
     "data": {
      "text/html": [
       "<div>\n",
       "<style scoped>\n",
       "    .dataframe tbody tr th:only-of-type {\n",
       "        vertical-align: middle;\n",
       "    }\n",
       "\n",
       "    .dataframe tbody tr th {\n",
       "        vertical-align: top;\n",
       "    }\n",
       "\n",
       "    .dataframe thead th {\n",
       "        text-align: right;\n",
       "    }\n",
       "</style>\n",
       "<table border=\"1\" class=\"dataframe\">\n",
       "  <thead>\n",
       "    <tr style=\"text-align: right;\">\n",
       "      <th></th>\n",
       "      <th>Region</th>\n",
       "      <th>Year</th>\n",
       "      <th>Population</th>\n",
       "    </tr>\n",
       "  </thead>\n",
       "  <tbody>\n",
       "    <tr>\n",
       "      <th>26</th>\n",
       "      <td>Andalucía</td>\n",
       "      <td>2021</td>\n",
       "      <td>8.472.407</td>\n",
       "    </tr>\n",
       "    <tr>\n",
       "      <th>27</th>\n",
       "      <td>Andalucía</td>\n",
       "      <td>2020</td>\n",
       "      <td>8.464.411</td>\n",
       "    </tr>\n",
       "    <tr>\n",
       "      <th>28</th>\n",
       "      <td>Andalucía</td>\n",
       "      <td>2019</td>\n",
       "      <td>8.414.240</td>\n",
       "    </tr>\n",
       "    <tr>\n",
       "      <th>29</th>\n",
       "      <td>Andalucía</td>\n",
       "      <td>2018</td>\n",
       "      <td>8.384.408</td>\n",
       "    </tr>\n",
       "    <tr>\n",
       "      <th>30</th>\n",
       "      <td>Andalucía</td>\n",
       "      <td>2017</td>\n",
       "      <td>8.379.820</td>\n",
       "    </tr>\n",
       "  </tbody>\n",
       "</table>\n",
       "</div>"
      ],
      "text/plain": [
       "       Region  Year Population\n",
       "26  Andalucía  2021  8.472.407\n",
       "27  Andalucía  2020  8.464.411\n",
       "28  Andalucía  2019  8.414.240\n",
       "29  Andalucía  2018  8.384.408\n",
       "30  Andalucía  2017  8.379.820"
      ]
     },
     "execution_count": 39,
     "metadata": {},
     "output_type": "execute_result"
    }
   ],
   "source": [
    "df_population.head()"
   ]
  },
  {
   "cell_type": "code",
   "execution_count": 40,
   "id": "37650888",
   "metadata": {},
   "outputs": [],
   "source": [
    "#sending data to csv\n",
    "df_population.to_csv(\"../Data/Raw_Data/df_population.csv\")"
   ]
  }
 ],
 "metadata": {
  "kernelspec": {
   "display_name": "Python [conda env:final_project]",
   "language": "python",
   "name": "conda-env-final_project-py"
  },
  "language_info": {
   "codemirror_mode": {
    "name": "ipython",
    "version": 3
   },
   "file_extension": ".py",
   "mimetype": "text/x-python",
   "name": "python",
   "nbconvert_exporter": "python",
   "pygments_lexer": "ipython3",
   "version": "3.7.13"
  }
 },
 "nbformat": 4,
 "nbformat_minor": 5
}
