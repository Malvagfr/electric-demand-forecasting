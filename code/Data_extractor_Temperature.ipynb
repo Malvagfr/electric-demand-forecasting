{
 "cells": [
  {
   "cell_type": "markdown",
   "id": "b4509517",
   "metadata": {},
   "source": [
    "## Hourly temperature for main cities in the country"
   ]
  },
  {
   "cell_type": "markdown",
   "id": "6ea650ae",
   "metadata": {},
   "source": [
    "Information exported from ERA5\n",
    "(https://cds.climate.copernicus.eu/cdsapp#!/dataset/reanalysis-era5-pressure-levels?tab=overview)"
   ]
  },
  {
   "cell_type": "code",
   "execution_count": 1,
   "id": "e3b9e49f",
   "metadata": {},
   "outputs": [],
   "source": [
    "#import libraries\n",
    "import pandas as pd\n",
    "import numpy as np\n",
    "import cdsapi\n",
    "import netCDF4"
   ]
  },
  {
   "cell_type": "markdown",
   "id": "dc2d221f",
   "metadata": {},
   "source": [
    "## List of cities"
   ]
  },
  {
   "cell_type": "markdown",
   "id": "87698ee1",
   "metadata": {},
   "source": [
    "### Main cities: Latitud, longitud \n",
    "- Asturias - Oviedo: North 43.4°, West -5.8°, South 43.3°, East -5.7°\n",
    "- Madrid - Madrid: North 40.4°, West -3.7°, South 40.3°, East -3.6°\n",
    "- Cataluña - Barcelona: North 41.4°, West 2.1°, South 41.3°, East 2.2°\n",
    "- Comunidad Valenciana - Valencia: North 39.5°, West -0.37°, South 39.4°, East -0.38°\n",
    "- Andalucia - Sevilla: North 37.4°, West -6.0°, South 37.3°, East -5.9°\n",
    "- Aragón - Zaragoza: North 41.7°, West -0.8°, South 41.6°, East -0.9°\n",
    "- Murcia - Murcia: North 38.0°, West -1.1°, South 37.9°, East -1.2°\n",
    "- País Vasco - Bilbao: North 43.3°, West -2.8°, South 43.2°, East -2.9° \n",
    "- Galicia - Vigo: North 42.2°, West -8.6°, South 42.1°, East -8.7°\n",
    "- Castilla y León - Valladolid: North 41.7°, West -4.6°, South 41.6°, East -4.7°\n",
    "- Cantabria - Santander: North 43.5°, West -3.7°, South 43.4°, East -3.8°\n",
    "- La Rioja - Logroño: North 42.5°, West -2.4°, South 42.4°, East -2.5°\n",
    "- Navarra - Pamplona: North 42.9°, West -1.6°, South 42.8°, East -1.7°\n",
    "- Castilla la mancha - Albacete: North 39.0°, West -1.8°, South 38.9°, East -1.9°\n",
    "- Extremadura - Badajoz: North 38.9°, West -6.9°, South 38.8°, East -7.0°"
   ]
  },
  {
   "cell_type": "code",
   "execution_count": 6,
   "id": "2c828408",
   "metadata": {},
   "outputs": [],
   "source": [
    "file_list=['Oviedo','Madrid','Barcelona','Valencia','Sevilla','Zaragoza','Malaga','Murcia','Bilbao','Vigo',\n",
    "          'Alicante','Cordoba','Valladolid']"
   ]
  },
  {
   "cell_type": "code",
   "execution_count": 2,
   "id": "b744e943",
   "metadata": {},
   "outputs": [],
   "source": [
    "file_list=['Oviedo','Madrid','Barcelona','Valencia','Sevilla','Zaragoza']"
   ]
  },
  {
   "cell_type": "markdown",
   "id": "f8989cf1",
   "metadata": {},
   "source": [
    "## Data extration"
   ]
  },
  {
   "cell_type": "code",
   "execution_count": 3,
   "id": "38cc84a0",
   "metadata": {},
   "outputs": [
    {
     "name": "stdout",
     "output_type": "stream",
     "text": [
      "CPU times: user 8.75 s, sys: 18.3 s, total: 27 s\n",
      "Wall time: 1min 7s\n"
     ]
    }
   ],
   "source": [
    "%%time\n",
    "for file in file_list:\n",
    "    #Defining paths\n",
    "    path=\"../Data/Hourly_Temperature/\"+file+\".nc\"\n",
    "    \n",
    "    #Defining empty dataframes\n",
    "    df1=pd.DataFrame()\n",
    "    df2=pd.DataFrame()\n",
    "    df3=pd.DataFrame()\n",
    "    df4=pd.DataFrame() \n",
    "    df_time=pd.DataFrame() \n",
    "    \n",
    "    #Defining nc \n",
    "    nc=netCDF4.Dataset(path,'r')\n",
    "    \n",
    "    #time\n",
    "    time=nc.variables['time']\n",
    "    dtime=netCDF4.num2date(time[:],time.units)\n",
    "    df_time['time']=np.array(dtime,dtype=type(dtime))\n",
    "    \n",
    "    #temp\n",
    "    temp_p1=np.array(nc.variables['d2m'][:,0,0],dtype=type(nc.variables['d2m'][:,0,0]))\n",
    "    temp_p2=np.array(nc.variables['d2m'][:,0,1],dtype=type(nc.variables['d2m'][:,0,1]))\n",
    "    temp_p3=np.array(nc.variables['d2m'][:,1,0],dtype=type(nc.variables['d2m'][:,1,0]))\n",
    "    temp_p4=np.array(nc.variables['d2m'][:,1,1],dtype=type(nc.variables['d2m'][:,1,1]))\n",
    "    \n",
    "    df1['temp']=temp_p1\n",
    "    df2['temp']=temp_p2\n",
    "    df3['temp']=temp_p3\n",
    "    df4['temp']=temp_p4\n",
    "    \n",
    "    #Concatenation        \n",
    "    df=pd.concat([df1,df2,df3,df4])\n",
    "    \n",
    "    df=pd.merge(df, df_time,left_index=True, right_index=True)\n",
    "    exec(file + \" = df\")"
   ]
  },
  {
   "cell_type": "code",
   "execution_count": 13,
   "id": "1a203a14",
   "metadata": {},
   "outputs": [
    {
     "ename": "AttributeError",
     "evalue": "'str' object has no attribute 'to_csv'",
     "output_type": "error",
     "traceback": [
      "\u001b[0;31m---------------------------------------------------------------------------\u001b[0m",
      "\u001b[0;31mAttributeError\u001b[0m                            Traceback (most recent call last)",
      "\u001b[0;32m/var/folders/dk/5757d03j1t3d7vhy5byqrlgm0000gn/T/ipykernel_21700/1601447186.py\u001b[0m in \u001b[0;36m<module>\u001b[0;34m\u001b[0m\n\u001b[1;32m      1\u001b[0m \u001b[0;32mfor\u001b[0m \u001b[0mfile\u001b[0m \u001b[0;32min\u001b[0m \u001b[0mfile_list\u001b[0m\u001b[0;34m:\u001b[0m\u001b[0;34m\u001b[0m\u001b[0;34m\u001b[0m\u001b[0m\n\u001b[0;32m----> 2\u001b[0;31m     \u001b[0mfile\u001b[0m\u001b[0;34m.\u001b[0m\u001b[0mto_csv\u001b[0m\u001b[0;34m(\u001b[0m\u001b[0;34m\"../Data/Hourly_Temperature/\"\u001b[0m\u001b[0;34m+\u001b[0m\u001b[0mfile\u001b[0m\u001b[0;34m+\u001b[0m\u001b[0;34m\".csv\"\u001b[0m\u001b[0;34m)\u001b[0m\u001b[0;34m\u001b[0m\u001b[0;34m\u001b[0m\u001b[0m\n\u001b[0m",
      "\u001b[0;31mAttributeError\u001b[0m: 'str' object has no attribute 'to_csv'"
     ]
    }
   ],
   "source": [
    "%%time\n",
    "for file in file_list:\n",
    "    file.to_csv(\"../Data/Hourly_Temperature/\"+file+\".csv\")"
   ]
  },
  {
   "cell_type": "code",
   "execution_count": 4,
   "id": "8ac08c18",
   "metadata": {},
   "outputs": [],
   "source": [
    "Oviedo.to_csv(\"../Data/Hourly_Temperature/\"+\"Oviedo\"+\".csv\")"
   ]
  },
  {
   "cell_type": "code",
   "execution_count": 5,
   "id": "154ac991",
   "metadata": {},
   "outputs": [
    {
     "data": {
      "text/html": [
       "<div>\n",
       "<style scoped>\n",
       "    .dataframe tbody tr th:only-of-type {\n",
       "        vertical-align: middle;\n",
       "    }\n",
       "\n",
       "    .dataframe tbody tr th {\n",
       "        vertical-align: top;\n",
       "    }\n",
       "\n",
       "    .dataframe thead th {\n",
       "        text-align: right;\n",
       "    }\n",
       "</style>\n",
       "<table border=\"1\" class=\"dataframe\">\n",
       "  <thead>\n",
       "    <tr style=\"text-align: right;\">\n",
       "      <th></th>\n",
       "      <th>Unnamed: 0</th>\n",
       "      <th>temp</th>\n",
       "      <th>time</th>\n",
       "    </tr>\n",
       "  </thead>\n",
       "  <tbody>\n",
       "    <tr>\n",
       "      <th>0</th>\n",
       "      <td>0</td>\n",
       "      <td>269.887412</td>\n",
       "      <td>2015-01-01 00:00:00</td>\n",
       "    </tr>\n",
       "    <tr>\n",
       "      <th>1</th>\n",
       "      <td>0</td>\n",
       "      <td>270.258563</td>\n",
       "      <td>2015-01-01 00:00:00</td>\n",
       "    </tr>\n",
       "    <tr>\n",
       "      <th>2</th>\n",
       "      <td>0</td>\n",
       "      <td>268.819181</td>\n",
       "      <td>2015-01-01 00:00:00</td>\n",
       "    </tr>\n",
       "    <tr>\n",
       "      <th>3</th>\n",
       "      <td>0</td>\n",
       "      <td>269.266227</td>\n",
       "      <td>2015-01-01 00:00:00</td>\n",
       "    </tr>\n",
       "    <tr>\n",
       "      <th>4</th>\n",
       "      <td>1</td>\n",
       "      <td>269.308332</td>\n",
       "      <td>2015-01-01 01:00:00</td>\n",
       "    </tr>\n",
       "    <tr>\n",
       "      <th>...</th>\n",
       "      <td>...</td>\n",
       "      <td>...</td>\n",
       "      <td>...</td>\n",
       "    </tr>\n",
       "    <tr>\n",
       "      <th>248447</th>\n",
       "      <td>62111</td>\n",
       "      <td>276.663266</td>\n",
       "      <td>2022-01-31 23:00:00</td>\n",
       "    </tr>\n",
       "    <tr>\n",
       "      <th>248448</th>\n",
       "      <td>62112</td>\n",
       "      <td>277.935786</td>\n",
       "      <td>2022-02-01 00:00:00</td>\n",
       "    </tr>\n",
       "    <tr>\n",
       "      <th>248449</th>\n",
       "      <td>62112</td>\n",
       "      <td>277.964896</td>\n",
       "      <td>2022-02-01 00:00:00</td>\n",
       "    </tr>\n",
       "    <tr>\n",
       "      <th>248450</th>\n",
       "      <td>62112</td>\n",
       "      <td>276.701213</td>\n",
       "      <td>2022-02-01 00:00:00</td>\n",
       "    </tr>\n",
       "    <tr>\n",
       "      <th>248451</th>\n",
       "      <td>62112</td>\n",
       "      <td>276.709010</td>\n",
       "      <td>2022-02-01 00:00:00</td>\n",
       "    </tr>\n",
       "  </tbody>\n",
       "</table>\n",
       "<p>248452 rows × 3 columns</p>\n",
       "</div>"
      ],
      "text/plain": [
       "        Unnamed: 0        temp                 time\n",
       "0                0  269.887412  2015-01-01 00:00:00\n",
       "1                0  270.258563  2015-01-01 00:00:00\n",
       "2                0  268.819181  2015-01-01 00:00:00\n",
       "3                0  269.266227  2015-01-01 00:00:00\n",
       "4                1  269.308332  2015-01-01 01:00:00\n",
       "...            ...         ...                  ...\n",
       "248447       62111  276.663266  2022-01-31 23:00:00\n",
       "248448       62112  277.935786  2022-02-01 00:00:00\n",
       "248449       62112  277.964896  2022-02-01 00:00:00\n",
       "248450       62112  276.701213  2022-02-01 00:00:00\n",
       "248451       62112  276.709010  2022-02-01 00:00:00\n",
       "\n",
       "[248452 rows x 3 columns]"
      ]
     },
     "execution_count": 5,
     "metadata": {},
     "output_type": "execute_result"
    }
   ],
   "source": [
    "pd.read_csv(\"../Data/Hourly_Temperature/\"+\"Oviedo\"+\".csv\")"
   ]
  },
  {
   "cell_type": "code",
   "execution_count": null,
   "id": "88e0380d",
   "metadata": {},
   "outputs": [],
   "source": [
    "#calcularlo todo a nivel españa\n",
    "#ponderar las temperaturas con la población de cada comunidad\n",
    "#marcar los días como festivos y ponderar los parciales con la población"
   ]
  }
 ],
 "metadata": {
  "kernelspec": {
   "display_name": "Python [conda env:final-project]",
   "language": "python",
   "name": "conda-env-final-project-py"
  },
  "language_info": {
   "codemirror_mode": {
    "name": "ipython",
    "version": 3
   },
   "file_extension": ".py",
   "mimetype": "text/x-python",
   "name": "python",
   "nbconvert_exporter": "python",
   "pygments_lexer": "ipython3",
   "version": "3.7.11"
  }
 },
 "nbformat": 4,
 "nbformat_minor": 5
}
