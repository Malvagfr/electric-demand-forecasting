{
 "cells": [
  {
   "cell_type": "code",
   "execution_count": 151,
   "id": "9a2f2725",
   "metadata": {},
   "outputs": [],
   "source": [
    "import pandas as pd\n",
    "import requests \n",
    "import bs4   # !pip install beautifulsoup4\n",
    "import re"
   ]
  },
  {
   "cell_type": "markdown",
   "id": "fe2e8143",
   "metadata": {},
   "source": [
    "## Inhabitants"
   ]
  },
  {
   "cell_type": "code",
   "execution_count": 152,
   "id": "81a7a3f3",
   "metadata": {},
   "outputs": [
    {
     "data": {
      "text/html": [
       "<div>\n",
       "<style scoped>\n",
       "    .dataframe tbody tr th:only-of-type {\n",
       "        vertical-align: middle;\n",
       "    }\n",
       "\n",
       "    .dataframe tbody tr th {\n",
       "        vertical-align: top;\n",
       "    }\n",
       "\n",
       "    .dataframe thead th {\n",
       "        text-align: right;\n",
       "    }\n",
       "</style>\n",
       "<table border=\"1\" class=\"dataframe\">\n",
       "  <thead>\n",
       "    <tr style=\"text-align: right;\">\n",
       "      <th></th>\n",
       "      <th>Comunidades y Ciudades Autónomas</th>\n",
       "      <th>Tamaño de los municipios</th>\n",
       "      <th>Periodo</th>\n",
       "      <th>Total</th>\n",
       "    </tr>\n",
       "  </thead>\n",
       "  <tbody>\n",
       "    <tr>\n",
       "      <th>0</th>\n",
       "      <td>Total</td>\n",
       "      <td>Total</td>\n",
       "      <td>2021</td>\n",
       "      <td>47.385.107</td>\n",
       "    </tr>\n",
       "    <tr>\n",
       "      <th>1</th>\n",
       "      <td>Total</td>\n",
       "      <td>Total</td>\n",
       "      <td>2020</td>\n",
       "      <td>47.450.795</td>\n",
       "    </tr>\n",
       "    <tr>\n",
       "      <th>2</th>\n",
       "      <td>Total</td>\n",
       "      <td>Total</td>\n",
       "      <td>2019</td>\n",
       "      <td>47.026.208</td>\n",
       "    </tr>\n",
       "    <tr>\n",
       "      <th>3</th>\n",
       "      <td>Total</td>\n",
       "      <td>Total</td>\n",
       "      <td>2018</td>\n",
       "      <td>46.722.980</td>\n",
       "    </tr>\n",
       "    <tr>\n",
       "      <th>4</th>\n",
       "      <td>Total</td>\n",
       "      <td>Total</td>\n",
       "      <td>2017</td>\n",
       "      <td>46.572.132</td>\n",
       "    </tr>\n",
       "  </tbody>\n",
       "</table>\n",
       "</div>"
      ],
      "text/plain": [
       "  Comunidades y Ciudades Autónomas Tamaño de los municipios  Periodo  \\\n",
       "0                            Total                    Total     2021   \n",
       "1                            Total                    Total     2020   \n",
       "2                            Total                    Total     2019   \n",
       "3                            Total                    Total     2018   \n",
       "4                            Total                    Total     2017   \n",
       "\n",
       "        Total  \n",
       "0  47.385.107  \n",
       "1  47.450.795  \n",
       "2  47.026.208  \n",
       "3  46.722.980  \n",
       "4  46.572.132  "
      ]
     },
     "execution_count": 152,
     "metadata": {},
     "output_type": "execute_result"
    }
   ],
   "source": [
    "#https://www.ine.es/jaxiT3/Datos.htm?t=2915\n",
    "df_inhabitants=pd.read_csv('../data/inhabitants.csv',sep=';' , encoding='latin-1')\n",
    "df_inhabitants.head()"
   ]
  },
  {
   "cell_type": "code",
   "execution_count": 153,
   "id": "c1a1a805",
   "metadata": {},
   "outputs": [],
   "source": [
    "#cogiendo datos a partir de 2015\n",
    "df_inhabitants=df_inhabitants[df_inhabitants['Periodo']>=2015]         "
   ]
  },
  {
   "cell_type": "code",
   "execution_count": 154,
   "id": "bbc3aaa7",
   "metadata": {},
   "outputs": [],
   "source": [
    "df_inhabitants['Comunidades y Ciudades Autónomas']=df_inhabitants['Comunidades y Ciudades Autónomas'].str[3:]"
   ]
  },
  {
   "cell_type": "code",
   "execution_count": 155,
   "id": "88638b2c",
   "metadata": {},
   "outputs": [],
   "source": [
    "df_inhabitants['Comunidades y Ciudades Autónomas'] = \\\n",
    "df_inhabitants['Comunidades y Ciudades Autónomas'].replace(['al'],'Total')\n",
    "df_inhabitants['Comunidades y Ciudades Autónomas'] = \\\n",
    "df_inhabitants['Comunidades y Ciudades Autónomas'].replace(['Asturias, Principado de'],'Asturias')\n",
    "df_inhabitants['Comunidades y Ciudades Autónomas'] = \\\n",
    "df_inhabitants['Comunidades y Ciudades Autónomas'].replace(['Castilla - La Mancha'],'Castilla-La Mancha')\n",
    "df_inhabitants['Comunidades y Ciudades Autónomas'] = \\\n",
    "df_inhabitants['Comunidades y Ciudades Autónomas'].replace(['Comunitat Valenciana'],'Comunidad Valenciana')\n",
    "df_inhabitants['Comunidades y Ciudades Autónomas'] = \\\n",
    "df_inhabitants['Comunidades y Ciudades Autónomas'].replace(['Comunitat Valenciana'],'Comunidad Valenciana')\n",
    "df_inhabitants['Comunidades y Ciudades Autónomas'] = \\\n",
    "df_inhabitants['Comunidades y Ciudades Autónomas'].replace(['Madrid, Comunidad de'],'Madrid')\n",
    "df_inhabitants['Comunidades y Ciudades Autónomas'] = \\\n",
    "df_inhabitants['Comunidades y Ciudades Autónomas'].replace(['Murcia, Región de'],'Murcia')\n",
    "df_inhabitants['Comunidades y Ciudades Autónomas'] = \\\n",
    "df_inhabitants['Comunidades y Ciudades Autónomas'].replace(['Navarra, Comunidad Foral de'],'Navarra')\n",
    "df_inhabitants['Comunidades y Ciudades Autónomas'] = \\\n",
    "df_inhabitants['Comunidades y Ciudades Autónomas'].replace(['Rioja, La'],'La Rioja')"
   ]
  },
  {
   "cell_type": "code",
   "execution_count": 156,
   "id": "5d39d331",
   "metadata": {},
   "outputs": [
    {
     "data": {
      "text/plain": [
       "array(['Total', 'Andalucía', 'Aragón', 'Asturias', 'Balears, Illes',\n",
       "       'Canarias', 'Cantabria', 'Castilla y León', 'Castilla-La Mancha',\n",
       "       'Cataluña', 'Comunidad Valenciana', 'Extremadura', 'Galicia',\n",
       "       'Madrid', 'Murcia', 'Navarra', 'País Vasco', 'La Rioja', 'Ceuta',\n",
       "       'Melilla'], dtype=object)"
      ]
     },
     "execution_count": 156,
     "metadata": {},
     "output_type": "execute_result"
    }
   ],
   "source": [
    "df_inhabitants['Comunidades y Ciudades Autónomas'].unique()"
   ]
  },
  {
   "cell_type": "code",
   "execution_count": 157,
   "id": "a4a7d87b",
   "metadata": {},
   "outputs": [],
   "source": [
    "to_exclude = ['Total','Balears, Illes','Canarias','Ceuta','Melilla']"
   ]
  },
  {
   "cell_type": "code",
   "execution_count": 158,
   "id": "29040d87",
   "metadata": {},
   "outputs": [],
   "source": [
    "df_inhabitants=df_inhabitants[~df_inhabitants['Comunidades y Ciudades Autónomas'].isin(to_exclude)]"
   ]
  },
  {
   "cell_type": "code",
   "execution_count": 159,
   "id": "beb0a7de",
   "metadata": {},
   "outputs": [],
   "source": [
    "df_inhabitants.rename(columns={'Comunidades y Ciudades Autónomas': 'Region', \n",
    "                               'Periodo': 'Year', 'Total': 'Inhabitants'}, inplace=True)"
   ]
  },
  {
   "cell_type": "code",
   "execution_count": 160,
   "id": "9ea3b708",
   "metadata": {},
   "outputs": [
    {
     "name": "stderr",
     "output_type": "stream",
     "text": [
      "/Users/malva/miniconda3/envs/final_project/lib/python3.7/site-packages/ipykernel_launcher.py:1: FutureWarning: In a future version of pandas all arguments of DataFrame.drop except for the argument 'labels' will be keyword-only\n",
      "  \"\"\"Entry point for launching an IPython kernel.\n"
     ]
    }
   ],
   "source": [
    "df_inhabitants = df_inhabitants.drop('Tamaño de los municipios', 1)"
   ]
  },
  {
   "cell_type": "markdown",
   "id": "ccbcf07e",
   "metadata": {},
   "source": [
    "## Bank holidays"
   ]
  },
  {
   "cell_type": "code",
   "execution_count": 161,
   "id": "a209b5d4",
   "metadata": {},
   "outputs": [
    {
     "data": {
      "text/html": [
       "<div>\n",
       "<style scoped>\n",
       "    .dataframe tbody tr th:only-of-type {\n",
       "        vertical-align: middle;\n",
       "    }\n",
       "\n",
       "    .dataframe tbody tr th {\n",
       "        vertical-align: top;\n",
       "    }\n",
       "\n",
       "    .dataframe thead th {\n",
       "        text-align: right;\n",
       "    }\n",
       "</style>\n",
       "<table border=\"1\" class=\"dataframe\">\n",
       "  <thead>\n",
       "    <tr style=\"text-align: right;\">\n",
       "      <th></th>\n",
       "      <th>Year</th>\n",
       "      <th>Day</th>\n",
       "      <th>Region</th>\n",
       "    </tr>\n",
       "  </thead>\n",
       "  <tbody>\n",
       "    <tr>\n",
       "      <th>0</th>\n",
       "      <td>2015</td>\n",
       "      <td>1/01/2015</td>\n",
       "      <td>Nacional</td>\n",
       "    </tr>\n",
       "    <tr>\n",
       "      <th>1</th>\n",
       "      <td>2015</td>\n",
       "      <td>6/01/2015</td>\n",
       "      <td>Nacional</td>\n",
       "    </tr>\n",
       "    <tr>\n",
       "      <th>2</th>\n",
       "      <td>2015</td>\n",
       "      <td>28/02/2015</td>\n",
       "      <td>Andalucía</td>\n",
       "    </tr>\n",
       "    <tr>\n",
       "      <th>3</th>\n",
       "      <td>2015</td>\n",
       "      <td>19/03/2015</td>\n",
       "      <td>Comunidad Valenciana</td>\n",
       "    </tr>\n",
       "    <tr>\n",
       "      <th>4</th>\n",
       "      <td>2015</td>\n",
       "      <td>19/03/2015</td>\n",
       "      <td>Madrid</td>\n",
       "    </tr>\n",
       "    <tr>\n",
       "      <th>...</th>\n",
       "      <td>...</td>\n",
       "      <td>...</td>\n",
       "      <td>...</td>\n",
       "    </tr>\n",
       "    <tr>\n",
       "      <th>463</th>\n",
       "      <td>2022</td>\n",
       "      <td>26/12/2022</td>\n",
       "      <td>La Rioja</td>\n",
       "    </tr>\n",
       "    <tr>\n",
       "      <th>464</th>\n",
       "      <td>2022</td>\n",
       "      <td>26/12/2022</td>\n",
       "      <td>Cataluña</td>\n",
       "    </tr>\n",
       "    <tr>\n",
       "      <th>465</th>\n",
       "      <td>2022</td>\n",
       "      <td>26/12/2022</td>\n",
       "      <td>Castilla y León</td>\n",
       "    </tr>\n",
       "    <tr>\n",
       "      <th>466</th>\n",
       "      <td>2022</td>\n",
       "      <td>26/12/2022</td>\n",
       "      <td>Madrid</td>\n",
       "    </tr>\n",
       "    <tr>\n",
       "      <th>467</th>\n",
       "      <td>2022</td>\n",
       "      <td>26/12/2022</td>\n",
       "      <td>Navarra</td>\n",
       "    </tr>\n",
       "  </tbody>\n",
       "</table>\n",
       "<p>468 rows × 3 columns</p>\n",
       "</div>"
      ],
      "text/plain": [
       "     Year         Day                Region\n",
       "0    2015   1/01/2015              Nacional\n",
       "1    2015   6/01/2015              Nacional\n",
       "2    2015  28/02/2015             Andalucía\n",
       "3    2015  19/03/2015  Comunidad Valenciana\n",
       "4    2015  19/03/2015                Madrid\n",
       "..    ...         ...                   ...\n",
       "463  2022  26/12/2022              La Rioja\n",
       "464  2022  26/12/2022              Cataluña\n",
       "465  2022  26/12/2022       Castilla y León\n",
       "466  2022  26/12/2022                Madrid\n",
       "467  2022  26/12/2022               Navarra\n",
       "\n",
       "[468 rows x 3 columns]"
      ]
     },
     "execution_count": 161,
     "metadata": {},
     "output_type": "execute_result"
    }
   ],
   "source": [
    "#https://administracion.gob.es/pag_Home/atencionCiudadana/calendarios/diasInhabiles.html#-b95725c1af8d\n",
    "df_bank_holidays=pd.read_csv('../data/Dias_festivos.csv', sep=',' , encoding='utf-8')\n",
    "df_bank_holidays"
   ]
  },
  {
   "cell_type": "code",
   "execution_count": 162,
   "id": "908eee60",
   "metadata": {},
   "outputs": [
    {
     "data": {
      "text/html": [
       "<div>\n",
       "<style scoped>\n",
       "    .dataframe tbody tr th:only-of-type {\n",
       "        vertical-align: middle;\n",
       "    }\n",
       "\n",
       "    .dataframe tbody tr th {\n",
       "        vertical-align: top;\n",
       "    }\n",
       "\n",
       "    .dataframe thead th {\n",
       "        text-align: right;\n",
       "    }\n",
       "</style>\n",
       "<table border=\"1\" class=\"dataframe\">\n",
       "  <thead>\n",
       "    <tr style=\"text-align: right;\">\n",
       "      <th></th>\n",
       "      <th>Year</th>\n",
       "      <th>Day</th>\n",
       "      <th>Region</th>\n",
       "    </tr>\n",
       "  </thead>\n",
       "  <tbody>\n",
       "    <tr>\n",
       "      <th>2</th>\n",
       "      <td>2015</td>\n",
       "      <td>28/02/2015</td>\n",
       "      <td>Andalucía</td>\n",
       "    </tr>\n",
       "    <tr>\n",
       "      <th>3</th>\n",
       "      <td>2015</td>\n",
       "      <td>19/03/2015</td>\n",
       "      <td>Comunidad Valenciana</td>\n",
       "    </tr>\n",
       "    <tr>\n",
       "      <th>4</th>\n",
       "      <td>2015</td>\n",
       "      <td>19/03/2015</td>\n",
       "      <td>Madrid</td>\n",
       "    </tr>\n",
       "    <tr>\n",
       "      <th>5</th>\n",
       "      <td>2015</td>\n",
       "      <td>19/03/2015</td>\n",
       "      <td>Murcia</td>\n",
       "    </tr>\n",
       "    <tr>\n",
       "      <th>6</th>\n",
       "      <td>2015</td>\n",
       "      <td>19/03/2015</td>\n",
       "      <td>Navarra</td>\n",
       "    </tr>\n",
       "  </tbody>\n",
       "</table>\n",
       "</div>"
      ],
      "text/plain": [
       "   Year         Day                Region\n",
       "2  2015  28/02/2015             Andalucía\n",
       "3  2015  19/03/2015  Comunidad Valenciana\n",
       "4  2015  19/03/2015                Madrid\n",
       "5  2015  19/03/2015                Murcia\n",
       "6  2015  19/03/2015               Navarra"
      ]
     },
     "execution_count": 162,
     "metadata": {},
     "output_type": "execute_result"
    }
   ],
   "source": [
    "df_bank_holidays_regions=df_bank_holidays[(df_bank_holidays['Region']!='Nacional')]\n",
    "df_bank_holidays_regions.head()"
   ]
  },
  {
   "cell_type": "code",
   "execution_count": 163,
   "id": "72b675d1",
   "metadata": {},
   "outputs": [
    {
     "data": {
      "text/html": [
       "<div>\n",
       "<style scoped>\n",
       "    .dataframe tbody tr th:only-of-type {\n",
       "        vertical-align: middle;\n",
       "    }\n",
       "\n",
       "    .dataframe tbody tr th {\n",
       "        vertical-align: top;\n",
       "    }\n",
       "\n",
       "    .dataframe thead th {\n",
       "        text-align: right;\n",
       "    }\n",
       "</style>\n",
       "<table border=\"1\" class=\"dataframe\">\n",
       "  <thead>\n",
       "    <tr style=\"text-align: right;\">\n",
       "      <th></th>\n",
       "      <th>Year</th>\n",
       "      <th>Day</th>\n",
       "      <th>Region</th>\n",
       "    </tr>\n",
       "  </thead>\n",
       "  <tbody>\n",
       "    <tr>\n",
       "      <th>0</th>\n",
       "      <td>2015</td>\n",
       "      <td>1/01/2015</td>\n",
       "      <td>Nacional</td>\n",
       "    </tr>\n",
       "    <tr>\n",
       "      <th>1</th>\n",
       "      <td>2015</td>\n",
       "      <td>6/01/2015</td>\n",
       "      <td>Nacional</td>\n",
       "    </tr>\n",
       "    <tr>\n",
       "      <th>22</th>\n",
       "      <td>2015</td>\n",
       "      <td>3/04/2015</td>\n",
       "      <td>Nacional</td>\n",
       "    </tr>\n",
       "    <tr>\n",
       "      <th>32</th>\n",
       "      <td>2015</td>\n",
       "      <td>1/05/2015</td>\n",
       "      <td>Nacional</td>\n",
       "    </tr>\n",
       "    <tr>\n",
       "      <th>42</th>\n",
       "      <td>2015</td>\n",
       "      <td>15/08/2015</td>\n",
       "      <td>Nacional</td>\n",
       "    </tr>\n",
       "  </tbody>\n",
       "</table>\n",
       "</div>"
      ],
      "text/plain": [
       "    Year         Day    Region\n",
       "0   2015   1/01/2015  Nacional\n",
       "1   2015   6/01/2015  Nacional\n",
       "22  2015   3/04/2015  Nacional\n",
       "32  2015   1/05/2015  Nacional\n",
       "42  2015  15/08/2015  Nacional"
      ]
     },
     "execution_count": 163,
     "metadata": {},
     "output_type": "execute_result"
    }
   ],
   "source": [
    "df_bank_holidays_national=df_bank_holidays[(df_bank_holidays['Region']=='Nacional')]\n",
    "df_bank_holidays_national.head()"
   ]
  },
  {
   "cell_type": "code",
   "execution_count": 180,
   "id": "6dd086a6",
   "metadata": {},
   "outputs": [
    {
     "name": "stdout",
     "output_type": "stream",
     "text": [
      "<class 'pandas.core.frame.DataFrame'>\n",
      "Int64Index: 60 entries, 0 to 410\n",
      "Data columns (total 3 columns):\n",
      " #   Column  Non-Null Count  Dtype \n",
      "---  ------  --------------  ----- \n",
      " 0   Year    60 non-null     int64 \n",
      " 1   Day     60 non-null     object\n",
      " 2   Region  60 non-null     object\n",
      "dtypes: int64(1), object(2)\n",
      "memory usage: 1.9+ KB\n"
     ]
    }
   ],
   "source": [
    "df_bank_holidays_national.info()"
   ]
  },
  {
   "cell_type": "markdown",
   "id": "1efc907b",
   "metadata": {},
   "source": [
    "## Import calendar"
   ]
  },
  {
   "cell_type": "code",
   "execution_count": 164,
   "id": "93df6857",
   "metadata": {},
   "outputs": [],
   "source": [
    "import calendar\n",
    "from datetime import datetime, date"
   ]
  },
  {
   "cell_type": "code",
   "execution_count": 165,
   "id": "ceda08d9",
   "metadata": {},
   "outputs": [],
   "source": [
    "def create_date_table(start='2015-01-01', end='2022-12-31'):\n",
    "    df = pd.DataFrame({\"Date\": pd.date_range(start, end)})\n",
    "    df[\"Day\"] = df.Date.dt.day_name()\n",
    "    df[\"Week\"] = df.Date.dt.weekofyear\n",
    "    df[\"Quarter\"] = df.Date.dt.quarter\n",
    "    df[\"Year\"] = df.Date.dt.year\n",
    "    df[\"Year_half\"] = (df.Quarter + 1) // 2\n",
    "    return df"
   ]
  },
  {
   "cell_type": "code",
   "execution_count": 166,
   "id": "ba87f755",
   "metadata": {},
   "outputs": [
    {
     "name": "stderr",
     "output_type": "stream",
     "text": [
      "/Users/malva/miniconda3/envs/final_project/lib/python3.7/site-packages/ipykernel_launcher.py:4: FutureWarning: Series.dt.weekofyear and Series.dt.week have been deprecated.  Please use Series.dt.isocalendar().week instead.\n",
      "  after removing the cwd from sys.path.\n"
     ]
    }
   ],
   "source": [
    "df_calendar=create_date_table()"
   ]
  },
  {
   "cell_type": "code",
   "execution_count": 167,
   "id": "6a9e1c47",
   "metadata": {},
   "outputs": [
    {
     "data": {
      "text/html": [
       "<div>\n",
       "<style scoped>\n",
       "    .dataframe tbody tr th:only-of-type {\n",
       "        vertical-align: middle;\n",
       "    }\n",
       "\n",
       "    .dataframe tbody tr th {\n",
       "        vertical-align: top;\n",
       "    }\n",
       "\n",
       "    .dataframe thead th {\n",
       "        text-align: right;\n",
       "    }\n",
       "</style>\n",
       "<table border=\"1\" class=\"dataframe\">\n",
       "  <thead>\n",
       "    <tr style=\"text-align: right;\">\n",
       "      <th></th>\n",
       "      <th>Date</th>\n",
       "      <th>Day</th>\n",
       "      <th>Week</th>\n",
       "      <th>Quarter</th>\n",
       "      <th>Year</th>\n",
       "      <th>Year_half</th>\n",
       "    </tr>\n",
       "  </thead>\n",
       "  <tbody>\n",
       "    <tr>\n",
       "      <th>0</th>\n",
       "      <td>2015-01-01</td>\n",
       "      <td>Thursday</td>\n",
       "      <td>1</td>\n",
       "      <td>1</td>\n",
       "      <td>2015</td>\n",
       "      <td>1</td>\n",
       "    </tr>\n",
       "    <tr>\n",
       "      <th>1</th>\n",
       "      <td>2015-01-02</td>\n",
       "      <td>Friday</td>\n",
       "      <td>1</td>\n",
       "      <td>1</td>\n",
       "      <td>2015</td>\n",
       "      <td>1</td>\n",
       "    </tr>\n",
       "    <tr>\n",
       "      <th>2</th>\n",
       "      <td>2015-01-03</td>\n",
       "      <td>Saturday</td>\n",
       "      <td>1</td>\n",
       "      <td>1</td>\n",
       "      <td>2015</td>\n",
       "      <td>1</td>\n",
       "    </tr>\n",
       "    <tr>\n",
       "      <th>3</th>\n",
       "      <td>2015-01-04</td>\n",
       "      <td>Sunday</td>\n",
       "      <td>1</td>\n",
       "      <td>1</td>\n",
       "      <td>2015</td>\n",
       "      <td>1</td>\n",
       "    </tr>\n",
       "    <tr>\n",
       "      <th>4</th>\n",
       "      <td>2015-01-05</td>\n",
       "      <td>Monday</td>\n",
       "      <td>2</td>\n",
       "      <td>1</td>\n",
       "      <td>2015</td>\n",
       "      <td>1</td>\n",
       "    </tr>\n",
       "  </tbody>\n",
       "</table>\n",
       "</div>"
      ],
      "text/plain": [
       "        Date       Day  Week  Quarter  Year  Year_half\n",
       "0 2015-01-01  Thursday     1        1  2015          1\n",
       "1 2015-01-02    Friday     1        1  2015          1\n",
       "2 2015-01-03  Saturday     1        1  2015          1\n",
       "3 2015-01-04    Sunday     1        1  2015          1\n",
       "4 2015-01-05    Monday     2        1  2015          1"
      ]
     },
     "execution_count": 167,
     "metadata": {},
     "output_type": "execute_result"
    }
   ],
   "source": [
    "df_calendar.head"
   ]
  },
  {
   "cell_type": "code",
   "execution_count": 168,
   "id": "87c5dac1",
   "metadata": {},
   "outputs": [],
   "source": [
    "def final_decision(row):\n",
    "    if row == 'Saturday' or row == 'Sunday' :\n",
    "        return 1\n",
    "    else:\n",
    "        return 0"
   ]
  },
  {
   "cell_type": "code",
   "execution_count": 169,
   "id": "5fc506a4",
   "metadata": {},
   "outputs": [],
   "source": [
    "df_calendar['Weekend']=df_calendar['Day'].apply(lambda row: final_decision(row))"
   ]
  },
  {
   "cell_type": "code",
   "execution_count": 172,
   "id": "4cb6c130",
   "metadata": {},
   "outputs": [
    {
     "data": {
      "text/html": [
       "<div>\n",
       "<style scoped>\n",
       "    .dataframe tbody tr th:only-of-type {\n",
       "        vertical-align: middle;\n",
       "    }\n",
       "\n",
       "    .dataframe tbody tr th {\n",
       "        vertical-align: top;\n",
       "    }\n",
       "\n",
       "    .dataframe thead th {\n",
       "        text-align: right;\n",
       "    }\n",
       "</style>\n",
       "<table border=\"1\" class=\"dataframe\">\n",
       "  <thead>\n",
       "    <tr style=\"text-align: right;\">\n",
       "      <th></th>\n",
       "      <th>Date</th>\n",
       "      <th>Day</th>\n",
       "      <th>Week</th>\n",
       "      <th>Quarter</th>\n",
       "      <th>Year</th>\n",
       "      <th>Year_half</th>\n",
       "      <th>Weekend</th>\n",
       "    </tr>\n",
       "  </thead>\n",
       "  <tbody>\n",
       "    <tr>\n",
       "      <th>0</th>\n",
       "      <td>2015-01-01</td>\n",
       "      <td>Thursday</td>\n",
       "      <td>1</td>\n",
       "      <td>1</td>\n",
       "      <td>2015</td>\n",
       "      <td>1</td>\n",
       "      <td>0</td>\n",
       "    </tr>\n",
       "    <tr>\n",
       "      <th>1</th>\n",
       "      <td>2015-01-02</td>\n",
       "      <td>Friday</td>\n",
       "      <td>1</td>\n",
       "      <td>1</td>\n",
       "      <td>2015</td>\n",
       "      <td>1</td>\n",
       "      <td>0</td>\n",
       "    </tr>\n",
       "    <tr>\n",
       "      <th>2</th>\n",
       "      <td>2015-01-03</td>\n",
       "      <td>Saturday</td>\n",
       "      <td>1</td>\n",
       "      <td>1</td>\n",
       "      <td>2015</td>\n",
       "      <td>1</td>\n",
       "      <td>1</td>\n",
       "    </tr>\n",
       "    <tr>\n",
       "      <th>3</th>\n",
       "      <td>2015-01-04</td>\n",
       "      <td>Sunday</td>\n",
       "      <td>1</td>\n",
       "      <td>1</td>\n",
       "      <td>2015</td>\n",
       "      <td>1</td>\n",
       "      <td>1</td>\n",
       "    </tr>\n",
       "    <tr>\n",
       "      <th>4</th>\n",
       "      <td>2015-01-05</td>\n",
       "      <td>Monday</td>\n",
       "      <td>2</td>\n",
       "      <td>1</td>\n",
       "      <td>2015</td>\n",
       "      <td>1</td>\n",
       "      <td>0</td>\n",
       "    </tr>\n",
       "    <tr>\n",
       "      <th>...</th>\n",
       "      <td>...</td>\n",
       "      <td>...</td>\n",
       "      <td>...</td>\n",
       "      <td>...</td>\n",
       "      <td>...</td>\n",
       "      <td>...</td>\n",
       "      <td>...</td>\n",
       "    </tr>\n",
       "    <tr>\n",
       "      <th>2917</th>\n",
       "      <td>2022-12-27</td>\n",
       "      <td>Tuesday</td>\n",
       "      <td>52</td>\n",
       "      <td>4</td>\n",
       "      <td>2022</td>\n",
       "      <td>2</td>\n",
       "      <td>0</td>\n",
       "    </tr>\n",
       "    <tr>\n",
       "      <th>2918</th>\n",
       "      <td>2022-12-28</td>\n",
       "      <td>Wednesday</td>\n",
       "      <td>52</td>\n",
       "      <td>4</td>\n",
       "      <td>2022</td>\n",
       "      <td>2</td>\n",
       "      <td>0</td>\n",
       "    </tr>\n",
       "    <tr>\n",
       "      <th>2919</th>\n",
       "      <td>2022-12-29</td>\n",
       "      <td>Thursday</td>\n",
       "      <td>52</td>\n",
       "      <td>4</td>\n",
       "      <td>2022</td>\n",
       "      <td>2</td>\n",
       "      <td>0</td>\n",
       "    </tr>\n",
       "    <tr>\n",
       "      <th>2920</th>\n",
       "      <td>2022-12-30</td>\n",
       "      <td>Friday</td>\n",
       "      <td>52</td>\n",
       "      <td>4</td>\n",
       "      <td>2022</td>\n",
       "      <td>2</td>\n",
       "      <td>0</td>\n",
       "    </tr>\n",
       "    <tr>\n",
       "      <th>2921</th>\n",
       "      <td>2022-12-31</td>\n",
       "      <td>Saturday</td>\n",
       "      <td>52</td>\n",
       "      <td>4</td>\n",
       "      <td>2022</td>\n",
       "      <td>2</td>\n",
       "      <td>1</td>\n",
       "    </tr>\n",
       "  </tbody>\n",
       "</table>\n",
       "<p>2922 rows × 7 columns</p>\n",
       "</div>"
      ],
      "text/plain": [
       "           Date        Day  Week  Quarter  Year  Year_half  Weekend\n",
       "0    2015-01-01   Thursday     1        1  2015          1        0\n",
       "1    2015-01-02     Friday     1        1  2015          1        0\n",
       "2    2015-01-03   Saturday     1        1  2015          1        1\n",
       "3    2015-01-04     Sunday     1        1  2015          1        1\n",
       "4    2015-01-05     Monday     2        1  2015          1        0\n",
       "...         ...        ...   ...      ...   ...        ...      ...\n",
       "2917 2022-12-27    Tuesday    52        4  2022          2        0\n",
       "2918 2022-12-28  Wednesday    52        4  2022          2        0\n",
       "2919 2022-12-29   Thursday    52        4  2022          2        0\n",
       "2920 2022-12-30     Friday    52        4  2022          2        0\n",
       "2921 2022-12-31   Saturday    52        4  2022          2        1\n",
       "\n",
       "[2922 rows x 7 columns]"
      ]
     },
     "execution_count": 172,
     "metadata": {},
     "output_type": "execute_result"
    }
   ],
   "source": [
    "df_calendar"
   ]
  },
  {
   "cell_type": "code",
   "execution_count": 179,
   "id": "31d2ed5a",
   "metadata": {},
   "outputs": [
    {
     "name": "stdout",
     "output_type": "stream",
     "text": [
      "<class 'pandas.core.frame.DataFrame'>\n",
      "Int64Index: 2922 entries, 0 to 2921\n",
      "Data columns (total 9 columns):\n",
      " #   Column     Non-Null Count  Dtype         \n",
      "---  ------     --------------  -----         \n",
      " 0   Date       2922 non-null   datetime64[ns]\n",
      " 1   Day        2922 non-null   object        \n",
      " 2   Week       2922 non-null   int64         \n",
      " 3   Quarter    2922 non-null   int64         \n",
      " 4   Year_x     2922 non-null   int64         \n",
      " 5   Year_half  2922 non-null   int64         \n",
      " 6   Weekend    2922 non-null   int64         \n",
      " 7   Year_y     2922 non-null   float64       \n",
      " 8   Region     2922 non-null   int64         \n",
      "dtypes: datetime64[ns](1), float64(1), int64(6), object(1)\n",
      "memory usage: 228.3+ KB\n"
     ]
    }
   ],
   "source": [
    "df_calendar.info()"
   ]
  },
  {
   "cell_type": "markdown",
   "id": "ea617467",
   "metadata": {},
   "source": [
    "## Joining data"
   ]
  },
  {
   "cell_type": "code",
   "execution_count": null,
   "id": "9f71b321",
   "metadata": {},
   "outputs": [],
   "source": [
    "df_bank_holidays_national"
   ]
  },
  {
   "cell_type": "code",
   "execution_count": 175,
   "id": "dd90cf5c",
   "metadata": {},
   "outputs": [],
   "source": [
    "df_calendar=pd.merge(df_calendar, df_bank_holidays_national,on='Day', how='left')"
   ]
  },
  {
   "cell_type": "code",
   "execution_count": 176,
   "id": "7f9871ad",
   "metadata": {},
   "outputs": [],
   "source": [
    "df_calendar.fillna(0, inplace=True)"
   ]
  },
  {
   "cell_type": "code",
   "execution_count": 178,
   "id": "8d825f66",
   "metadata": {},
   "outputs": [
    {
     "data": {
      "text/plain": [
       "array([0])"
      ]
     },
     "execution_count": 178,
     "metadata": {},
     "output_type": "execute_result"
    }
   ],
   "source": [
    "df_calendar['Region'].unique()"
   ]
  },
  {
   "cell_type": "code",
   "execution_count": null,
   "id": "a510cee8",
   "metadata": {},
   "outputs": [],
   "source": []
  }
 ],
 "metadata": {
  "kernelspec": {
   "display_name": "Python [conda env:final_project]",
   "language": "python",
   "name": "conda-env-final_project-py"
  },
  "language_info": {
   "codemirror_mode": {
    "name": "ipython",
    "version": 3
   },
   "file_extension": ".py",
   "mimetype": "text/x-python",
   "name": "python",
   "nbconvert_exporter": "python",
   "pygments_lexer": "ipython3",
   "version": "3.7.13"
  }
 },
 "nbformat": 4,
 "nbformat_minor": 5
}
